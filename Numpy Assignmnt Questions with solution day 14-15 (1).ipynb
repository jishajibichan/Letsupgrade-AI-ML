{
 "cells": [
  {
   "cell_type": "markdown",
   "metadata": {},
   "source": [
    "# 1. Create a 3x3x3 array with random values "
   ]
  },
  {
   "cell_type": "code",
   "execution_count": 2,
   "metadata": {},
   "outputs": [
    {
     "data": {
      "text/plain": [
       "array([[[0.12779241, 0.27960925, 0.08020423],\n",
       "        [0.47842702, 0.00633863, 0.28303771],\n",
       "        [0.44526869, 0.72478909, 0.48028039]],\n",
       "\n",
       "       [[0.26957452, 0.80998645, 0.50219019],\n",
       "        [0.62698656, 0.75101814, 0.50132816],\n",
       "        [0.5154079 , 0.13033114, 0.06906073]],\n",
       "\n",
       "       [[0.78273449, 0.53118237, 0.66149642],\n",
       "        [0.98477817, 0.74533491, 0.90317854],\n",
       "        [0.26259006, 0.24992358, 0.64135418]]])"
      ]
     },
     "execution_count": 2,
     "metadata": {},
     "output_type": "execute_result"
    }
   ],
   "source": [
    "import numpy as np\n",
    "np.random.random((3,3,3))"
   ]
  },
  {
   "cell_type": "markdown",
   "metadata": {},
   "source": [
    "# 2.Create a 5x5 matrix with values 1,2,3,4 just below the diagonal"
   ]
  },
  {
   "cell_type": "code",
   "execution_count": 10,
   "metadata": {},
   "outputs": [
    {
     "data": {
      "text/plain": [
       "array([[0, 0, 0, 0, 0],\n",
       "       [1, 0, 0, 0, 0],\n",
       "       [0, 2, 0, 0, 0],\n",
       "       [0, 0, 3, 0, 0],\n",
       "       [0, 0, 0, 4, 0]])"
      ]
     },
     "execution_count": 10,
     "metadata": {},
     "output_type": "execute_result"
    }
   ],
   "source": [
    "\n",
    "np.diag(np.arange(1,5),k=-1)"
   ]
  },
  {
   "cell_type": "markdown",
   "metadata": {},
   "source": [
    "# 3.Create a 8x8 matrix and fill it with a checkerboard pattern"
   ]
  },
  {
   "cell_type": "code",
   "execution_count": 17,
   "metadata": {},
   "outputs": [
    {
     "name": "stdout",
     "output_type": "stream",
     "text": [
      "[[0 1 0 1 0 1 0 1]\n",
      " [1 0 1 0 1 0 1 0]\n",
      " [0 1 0 1 0 1 0 1]\n",
      " [1 0 1 0 1 0 1 0]\n",
      " [0 1 0 1 0 1 0 1]\n",
      " [1 0 1 0 1 0 1 0]\n",
      " [0 1 0 1 0 1 0 1]\n",
      " [1 0 1 0 1 0 1 0]]\n"
     ]
    }
   ],
   "source": [
    "x = np.zeros((8,8), dtype = int)\n",
    "x[1::2, ::2] = 1\n",
    "x[::2, 1::2] = 1\n",
    "print(x)"
   ]
  },
  {
   "cell_type": "markdown",
   "metadata": {},
   "source": [
    "# 4. Normalize a 5x5 random matrix"
   ]
  },
  {
   "cell_type": "code",
   "execution_count": 21,
   "metadata": {},
   "outputs": [
    {
     "data": {
      "text/plain": [
       "array([[-0.68981124, -0.7715295 ,  0.05461414,  1.28522821, -1.41072041],\n",
       "       [-0.19166942,  1.3903536 ,  1.26809825, -1.4406658 , -0.67023177],\n",
       "       [ 1.25340832, -0.52715262,  0.97742381, -0.08543915, -0.04261907],\n",
       "       [ 0.89569215, -0.37126092, -1.54693556,  1.13744912, -1.07667168],\n",
       "       [-1.58301614,  0.36722952, -0.47536934,  0.83038809,  1.42320742]])"
      ]
     },
     "execution_count": 21,
     "metadata": {},
     "output_type": "execute_result"
    }
   ],
   "source": [
    "a=np.random.random((5,5))\n",
    "a=(a-np.mean(a))/(np.std(a))\n",
    "a"
   ]
  },
  {
   "cell_type": "markdown",
   "metadata": {},
   "source": [
    "# 5.  How to find common values between two arrays?"
   ]
  },
  {
   "cell_type": "code",
   "execution_count": 23,
   "metadata": {},
   "outputs": [
    {
     "name": "stdout",
     "output_type": "stream",
     "text": [
      "Array1:  [ 0 10 20 40 60 80 33]\n",
      "Array2:  [10, 30, 40, 33]\n",
      "Common values between two arrays:\n",
      "[10 33 40]\n"
     ]
    }
   ],
   "source": [
    "array1 = np.array([0, 10, 20, 40, 60, 80, 33])\n",
    "print(\"Array1: \",array1)\n",
    "array2 = [10, 30, 40, 33]\n",
    "print(\"Array2: \",array2)\n",
    "print(\"Common values between two arrays:\")\n",
    "print(np.intersect1d(array1, array2))\n"
   ]
  },
  {
   "cell_type": "markdown",
   "metadata": {},
   "source": [
    "# 6.How to get the dates of yesterday, today and tomorrow?"
   ]
  },
  {
   "cell_type": "code",
   "execution_count": 34,
   "metadata": {},
   "outputs": [
    {
     "name": "stdout",
     "output_type": "stream",
     "text": [
      "2020-08-06\n",
      "2020-08-07\n",
      "2020-08-08\n"
     ]
    }
   ],
   "source": [
    "yes= today-np.timedelta64(1)\n",
    "\n",
    "today= np.datetime64('today')\n",
    "yes= today-np.timedelta64(1)\n",
    "tomrw= today+np.timedelta64(1)\n",
    "print(yes)\n",
    "print(today)\n",
    "print(tomrw)"
   ]
  },
  {
   "cell_type": "markdown",
   "metadata": {},
   "source": [
    "# 7. Consider two random array A and B, check if they are equal"
   ]
  },
  {
   "cell_type": "code",
   "execution_count": 39,
   "metadata": {},
   "outputs": [
    {
     "name": "stdout",
     "output_type": "stream",
     "text": [
      "[8 7 6 7 3 8] \n",
      " [2 5 6 1 6 4]\n",
      "False\n"
     ]
    }
   ],
   "source": [
    "d = np.random.randint(1,10,6)\n",
    "e = np.random.randint(1,10,6)\n",
    "print(d,\"\\n\", e)\n",
    "equal = np.array_equal(d,e)\n",
    "print(equal)"
   ]
  },
  {
   "cell_type": "markdown",
   "metadata": {},
   "source": [
    "# 8.Create random vector of size 10 and replace the maximum value by 0 "
   ]
  },
  {
   "cell_type": "code",
   "execution_count": 41,
   "metadata": {},
   "outputs": [
    {
     "name": "stdout",
     "output_type": "stream",
     "text": [
      "[0.74089104 0.02555221 0.         0.68715336 0.18943192 0.78920341\n",
      " 0.48602245 0.47887039 0.01443586 0.70306328]\n"
     ]
    }
   ],
   "source": [
    "y = np.random.random(10)\n",
    "y[y.argmax()] = 0\n",
    "print(y)"
   ]
  },
  {
   "cell_type": "markdown",
   "metadata": {},
   "source": [
    "# 9. How to print all the values of an array?"
   ]
  },
  {
   "cell_type": "code",
   "execution_count": 50,
   "metadata": {},
   "outputs": [
    {
     "name": "stdout",
     "output_type": "stream",
     "text": [
      "[[0. 0. 0. 0. 0. 0. 0. 0. 0. 0. 0. 0. 0. 0. 0. 0. 0. 0. 0. 0. 0. 0. 0. 0.\n",
      "  0. 0. 0. 0. 0. 0. 0. 0. 0. 0. 0. 0. 0. 0. 0. 0. 0. 0. 0. 0. 0. 0. 0. 0.\n",
      "  0. 0.]\n",
      " [0. 0. 0. 0. 0. 0. 0. 0. 0. 0. 0. 0. 0. 0. 0. 0. 0. 0. 0. 0. 0. 0. 0. 0.\n",
      "  0. 0. 0. 0. 0. 0. 0. 0. 0. 0. 0. 0. 0. 0. 0. 0. 0. 0. 0. 0. 0. 0. 0. 0.\n",
      "  0. 0.]\n",
      " [0. 0. 0. 0. 0. 0. 0. 0. 0. 0. 0. 0. 0. 0. 0. 0. 0. 0. 0. 0. 0. 0. 0. 0.\n",
      "  0. 0. 0. 0. 0. 0. 0. 0. 0. 0. 0. 0. 0. 0. 0. 0. 0. 0. 0. 0. 0. 0. 0. 0.\n",
      "  0. 0.]\n",
      " [0. 0. 0. 0. 0. 0. 0. 0. 0. 0. 0. 0. 0. 0. 0. 0. 0. 0. 0. 0. 0. 0. 0. 0.\n",
      "  0. 0. 0. 0. 0. 0. 0. 0. 0. 0. 0. 0. 0. 0. 0. 0. 0. 0. 0. 0. 0. 0. 0. 0.\n",
      "  0. 0.]\n",
      " [0. 0. 0. 0. 0. 0. 0. 0. 0. 0. 0. 0. 0. 0. 0. 0. 0. 0. 0. 0. 0. 0. 0. 0.\n",
      "  0. 0. 0. 0. 0. 0. 0. 0. 0. 0. 0. 0. 0. 0. 0. 0. 0. 0. 0. 0. 0. 0. 0. 0.\n",
      "  0. 0.]\n",
      " [0. 0. 0. 0. 0. 0. 0. 0. 0. 0. 0. 0. 0. 0. 0. 0. 0. 0. 0. 0. 0. 0. 0. 0.\n",
      "  0. 0. 0. 0. 0. 0. 0. 0. 0. 0. 0. 0. 0. 0. 0. 0. 0. 0. 0. 0. 0. 0. 0. 0.\n",
      "  0. 0.]\n",
      " [0. 0. 0. 0. 0. 0. 0. 0. 0. 0. 0. 0. 0. 0. 0. 0. 0. 0. 0. 0. 0. 0. 0. 0.\n",
      "  0. 0. 0. 0. 0. 0. 0. 0. 0. 0. 0. 0. 0. 0. 0. 0. 0. 0. 0. 0. 0. 0. 0. 0.\n",
      "  0. 0.]\n",
      " [0. 0. 0. 0. 0. 0. 0. 0. 0. 0. 0. 0. 0. 0. 0. 0. 0. 0. 0. 0. 0. 0. 0. 0.\n",
      "  0. 0. 0. 0. 0. 0. 0. 0. 0. 0. 0. 0. 0. 0. 0. 0. 0. 0. 0. 0. 0. 0. 0. 0.\n",
      "  0. 0.]\n",
      " [0. 0. 0. 0. 0. 0. 0. 0. 0. 0. 0. 0. 0. 0. 0. 0. 0. 0. 0. 0. 0. 0. 0. 0.\n",
      "  0. 0. 0. 0. 0. 0. 0. 0. 0. 0. 0. 0. 0. 0. 0. 0. 0. 0. 0. 0. 0. 0. 0. 0.\n",
      "  0. 0.]\n",
      " [0. 0. 0. 0. 0. 0. 0. 0. 0. 0. 0. 0. 0. 0. 0. 0. 0. 0. 0. 0. 0. 0. 0. 0.\n",
      "  0. 0. 0. 0. 0. 0. 0. 0. 0. 0. 0. 0. 0. 0. 0. 0. 0. 0. 0. 0. 0. 0. 0. 0.\n",
      "  0. 0.]]\n"
     ]
    }
   ],
   "source": [
    "t=np.zeros((50,50))\n",
    "np.set_printoptions(threshold=np.inf)\n",
    "print(t)"
   ]
  },
  {
   "cell_type": "markdown",
   "metadata": {},
   "source": [
    "# 10.Subtract the mean of each row of a matrix"
   ]
  },
  {
   "cell_type": "code",
   "execution_count": 55,
   "metadata": {},
   "outputs": [
    {
     "data": {
      "text/plain": [
       "array([[ 0.09916764, -0.33726358,  0.35330198, -0.15783797, -0.42116051,\n",
       "         0.06124035,  0.17520312,  0.15392509, -0.37788512,  0.451309  ],\n",
       "       [ 0.07896318, -0.54418098,  0.21090355, -0.12716094,  0.01156095,\n",
       "        -0.40422521,  0.34783082,  0.32580262,  0.34023998, -0.23973397],\n",
       "       [ 0.21353426,  0.19205324, -0.47659828,  0.04761651,  0.33058425,\n",
       "        -0.00559849, -0.11647368, -0.2400125 ,  0.4068525 , -0.35195782],\n",
       "       [ 0.39368939, -0.31520947, -0.47718316,  0.34199019,  0.41682122,\n",
       "         0.16676582,  0.35650791, -0.3264229 , -0.30650069, -0.25045831],\n",
       "       [ 0.2340902 , -0.08197272, -0.05061131, -0.41833007,  0.37967655,\n",
       "        -0.20363888, -0.41138374,  0.22164599, -0.01577742,  0.34630141]])"
      ]
     },
     "execution_count": 55,
     "metadata": {},
     "output_type": "execute_result"
    }
   ],
   "source": [
    "X = np.random.rand(5, 10)\n",
    "X1 = X - X.mean(axis=1).reshape(-1, 1)\n",
    "X1"
   ]
  },
  {
   "cell_type": "markdown",
   "metadata": {},
   "source": [
    "# 11.Consider a given vector, how to add 1 to each element indexed by a second vector (be careful with repeated indices)? "
   ]
  },
  {
   "cell_type": "code",
   "execution_count": 57,
   "metadata": {},
   "outputs": [
    {
     "name": "stdout",
     "output_type": "stream",
     "text": [
      "[5. 4. 2. 1. 3. 2. 3. 1. 2. 2. 1. 3. 3. 1. 2.]\n"
     ]
    }
   ],
   "source": [
    "Z = np.ones(15)\n",
    "I = np.random.randint(0,len(Z),20)\n",
    "Z += np.bincount(I, minlength=len(Z))\n",
    "print(Z)"
   ]
  },
  {
   "cell_type": "code",
   "execution_count": 58,
   "metadata": {},
   "outputs": [
    {
     "name": "stdout",
     "output_type": "stream",
     "text": [
      "[9. 7. 3. 1. 5. 3. 5. 1. 3. 3. 1. 5. 5. 1. 3.]\n"
     ]
    }
   ],
   "source": [
    "np.add.at(Z, I, 1)\n",
    "print(Z)"
   ]
  },
  {
   "cell_type": "markdown",
   "metadata": {},
   "source": [
    "# 12.How to get the diagonal of a dot product?"
   ]
  },
  {
   "cell_type": "code",
   "execution_count": 62,
   "metadata": {},
   "outputs": [
    {
     "name": "stdout",
     "output_type": "stream",
     "text": [
      "[[0.6940894  1.2830133  0.35191661]\n",
      " [0.48998217 0.21675677 1.68957827]\n",
      " [0.13918823 0.33959189 0.35597045]]\n",
      "[[0.33979804 0.65225465 0.26353032]\n",
      " [1.64403784 0.73102395 1.20099939]\n",
      " [1.95306771 1.41508749 1.21075392]]\n"
     ]
    },
    {
     "data": {
      "text/plain": [
       "array([3.0324896 , 2.86894861, 0.8755226 ])"
      ]
     },
     "execution_count": 62,
     "metadata": {},
     "output_type": "execute_result"
    }
   ],
   "source": [
    "J = np.random.uniform(0,2,(3,3))\n",
    "K = np.random.uniform(0,2,(3,3))\n",
    "print(J)\n",
    "print(K)\n",
    "prod=np.diag(np.dot(J,K))\n",
    "prod"
   ]
  },
  {
   "cell_type": "markdown",
   "metadata": {},
   "source": [
    "# 13.How to find the most frequent value in an array?"
   ]
  },
  {
   "cell_type": "code",
   "execution_count": 63,
   "metadata": {},
   "outputs": [
    {
     "name": "stdout",
     "output_type": "stream",
     "text": [
      "[0 8 2 0 2 2 4 9 0 5 3 9 4 1 7 2 6 0 7 1 6 4 7 8 8 4 2 1 4 5 9 0 9 2 4 0 2\n",
      " 7 2 4 4 2 7 5 3 2 2 9 2 1]\n",
      "2\n"
     ]
    }
   ],
   "source": [
    "H= np.random.randint(0,10,50)\n",
    "print(H)\n",
    "print(np.bincount(H).argmax())"
   ]
  },
  {
   "cell_type": "markdown",
   "metadata": {},
   "source": [
    "# 14.How to get the n largest values of an array"
   ]
  },
  {
   "cell_type": "code",
   "execution_count": 68,
   "metadata": {},
   "outputs": [
    {
     "name": "stdout",
     "output_type": "stream",
     "text": [
      "[0.2910269  0.98537955 0.37879296 0.56672187 0.57643944 0.47776997\n",
      " 0.39917034 0.37460699 0.5671384  0.84854344 0.82319481 0.87174677\n",
      " 0.56780258 0.27597255 0.20385899]\n",
      "[0.57643944 0.82319481 0.84854344 0.87174677 0.98537955]\n"
     ]
    }
   ],
   "source": [
    "import numpy as np\n",
    "s = np.random.rand(15)\n",
    "print(s)\n",
    "n = 5\n",
    "print (s[np.argsort(s)[-n:]])"
   ]
  },
  {
   "cell_type": "markdown",
   "metadata": {},
   "source": [
    "# 15.How to create a record array from a regular array?"
   ]
  },
  {
   "cell_type": "code",
   "execution_count": 73,
   "metadata": {},
   "outputs": [
    {
     "name": "stdout",
     "output_type": "stream",
     "text": [
      "[(b'pizza',  7., 34) (b'straws', 10., 79)]\n"
     ]
    }
   ],
   "source": [
    "Z = np.array([(\"pizza\", 7, 34),\n",
    "              (\"straws\", 10, 79)])\n",
    "R = np.core.records.fromarrays(Z.T,names='col1, col2, col3',formats = 'S8, f8, i8')\n",
    "print(R)"
   ]
  }
 ],
 "metadata": {
  "kernelspec": {
   "display_name": "Python 3",
   "language": "python",
   "name": "python3"
  },
  "language_info": {
   "codemirror_mode": {
    "name": "ipython",
    "version": 3
   },
   "file_extension": ".py",
   "mimetype": "text/x-python",
   "name": "python",
   "nbconvert_exporter": "python",
   "pygments_lexer": "ipython3",
   "version": "3.7.6"
  }
 },
 "nbformat": 4,
 "nbformat_minor": 2
}
