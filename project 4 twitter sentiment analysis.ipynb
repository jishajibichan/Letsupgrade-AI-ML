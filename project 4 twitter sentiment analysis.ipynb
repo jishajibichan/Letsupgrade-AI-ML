{
 "cells": [
  {
   "cell_type": "code",
   "execution_count": 2,
   "metadata": {},
   "outputs": [],
   "source": [
    "#We will collect text data using Twitter API."
   ]
  },
  {
   "cell_type": "code",
   "execution_count": 2,
   "metadata": {},
   "outputs": [
    {
     "name": "stdout",
     "output_type": "stream",
     "text": [
      "Collecting tweepy\n",
      "  Downloading tweepy-3.10.0-py2.py3-none-any.whl (30 kB)\n",
      "Requirement already satisfied: requests[socks]>=2.11.1 in c:\\users\\asus\\anaconda3\\lib\\site-packages (from tweepy) (2.24.0)\n",
      "Requirement already satisfied: six>=1.10.0 in c:\\users\\asus\\anaconda3\\lib\\site-packages (from tweepy) (1.15.0)\n",
      "Collecting requests-oauthlib>=0.7.0\n",
      "  Downloading requests_oauthlib-1.3.0-py2.py3-none-any.whl (23 kB)\n",
      "Requirement already satisfied: idna<3,>=2.5 in c:\\users\\asus\\anaconda3\\lib\\site-packages (from requests[socks]>=2.11.1->tweepy) (2.10)\n",
      "Requirement already satisfied: chardet<4,>=3.0.2 in c:\\users\\asus\\anaconda3\\lib\\site-packages (from requests[socks]>=2.11.1->tweepy) (3.0.4)\n",
      "Requirement already satisfied: certifi>=2017.4.17 in c:\\users\\asus\\anaconda3\\lib\\site-packages (from requests[socks]>=2.11.1->tweepy) (2020.6.20)\n",
      "Requirement already satisfied: urllib3!=1.25.0,!=1.25.1,<1.26,>=1.21.1 in c:\\users\\asus\\anaconda3\\lib\\site-packages (from requests[socks]>=2.11.1->tweepy) (1.25.11)\n",
      "Requirement already satisfied: PySocks!=1.5.7,>=1.5.6; extra == \"socks\" in c:\\users\\asus\\anaconda3\\lib\\site-packages (from requests[socks]>=2.11.1->tweepy) (1.7.1)\n",
      "Collecting oauthlib>=3.0.0\n",
      "  Downloading oauthlib-3.1.1-py2.py3-none-any.whl (146 kB)\n",
      "Installing collected packages: oauthlib, requests-oauthlib, tweepy\n",
      "Successfully installed oauthlib-3.1.1 requests-oauthlib-1.3.0 tweepy-3.10.0\n"
     ]
    }
   ],
   "source": [
    "!pip install tweepy"
   ]
  },
  {
   "cell_type": "code",
   "execution_count": 3,
   "metadata": {},
   "outputs": [
    {
     "name": "stdout",
     "output_type": "stream",
     "text": [
      "Requirement already satisfied: openpyxl in c:\\users\\asus\\anaconda3\\lib\\site-packages (3.0.5)\n",
      "Requirement already satisfied: et-xmlfile in c:\\users\\asus\\anaconda3\\lib\\site-packages (from openpyxl) (1.0.1)\n",
      "Requirement already satisfied: jdcal in c:\\users\\asus\\anaconda3\\lib\\site-packages (from openpyxl) (1.4.1)\n"
     ]
    }
   ],
   "source": [
    "!pip install openpyxl"
   ]
  },
  {
   "cell_type": "code",
   "execution_count": 4,
   "metadata": {},
   "outputs": [],
   "source": [
    "import numpy as np\n",
    "import pandas as pd\n",
    "import tweepy\n",
    "import json\n",
    "from tweepy import OAuthHandler"
   ]
  },
  {
   "cell_type": "code",
   "execution_count": 5,
   "metadata": {},
   "outputs": [],
   "source": [
    "consumer_key = \"LzsCOl12ZZ79FObx7BV9a1R3a\"\n",
    "consumer_secret = \"gODxZ1kHJHDGgYfyP12AUN37UTlDd6yn3OsSV9Tl0iwu0K0cRY\"\n",
    "access_token = \"296102538-kYIK8SULCmRK4vgvYD2DhKbwvSXrgTdTkWh0Nvsp\"\n",
    "access_token_secret = \"Ib9obwgcE5tZk4S6tY5rAqI5iXOeJc9FGFg28qHoa4YpP\""
   ]
  },
  {
   "cell_type": "code",
   "execution_count": 6,
   "metadata": {},
   "outputs": [],
   "source": [
    "auth = tweepy.OAuthHandler( consumer_key , consumer_secret )\n",
    "auth.set_access_token( access_token , access_token_secret )\n",
    "api = tweepy.API(auth)"
   ]
  },
  {
   "cell_type": "code",
   "execution_count": 7,
   "metadata": {},
   "outputs": [],
   "source": [
    "query = \"RCB winning IPL\""
   ]
  },
  {
   "cell_type": "code",
   "execution_count": 8,
   "metadata": {},
   "outputs": [
    {
     "name": "stdout",
     "output_type": "stream",
     "text": [
      "Status(_api=<tweepy.api.API object at 0x0000024FA9D90400>, _json={'created_at': 'Tue Jun 29 18:06:27 +0000 2021', 'id': 1409936315878019072, 'id_str': '1409936315878019072', 'full_text': '@bunnyreddyyy Kane supports RCB and he is part of England foot ball team so England never gonna be winning Euro.\\n\\nHistory reckons RCB s IPL title is 0', 'truncated': False, 'display_text_range': [14, 150], 'entities': {'hashtags': [], 'symbols': [], 'user_mentions': [{'screen_name': 'bunnyreddyyy', 'name': 'bunny', 'id': 1384067963699875848, 'id_str': '1384067963699875848', 'indices': [0, 13]}], 'urls': []}, 'metadata': {'iso_language_code': 'en', 'result_type': 'recent'}, 'source': '<a href=\"http://twitter.com/download/android\" rel=\"nofollow\">Twitter for Android</a>', 'in_reply_to_status_id': 1409919661810929665, 'in_reply_to_status_id_str': '1409919661810929665', 'in_reply_to_user_id': 1384067963699875848, 'in_reply_to_user_id_str': '1384067963699875848', 'in_reply_to_screen_name': 'bunnyreddyyy', 'user': {'id': 1335862005542973441, 'id_str': '1335862005542973441', 'name': '👑 No.1 Arjun Tendulkar FAN BOY👑', 'screen_name': 'Boskeyswag', 'location': '', 'description': 'India\\n\\nActivist, Social Worker, Media Person. \\n\\nJournalist', 'url': None, 'entities': {'description': {'urls': []}}, 'protected': False, 'followers_count': 367, 'friends_count': 4967, 'listed_count': 0, 'created_at': 'Mon Dec 07 08:21:47 +0000 2020', 'favourites_count': 605, 'utc_offset': None, 'time_zone': None, 'geo_enabled': False, 'verified': False, 'statuses_count': 8972, 'lang': None, 'contributors_enabled': False, 'is_translator': False, 'is_translation_enabled': False, 'profile_background_color': 'F5F8FA', 'profile_background_image_url': None, 'profile_background_image_url_https': None, 'profile_background_tile': False, 'profile_image_url': 'http://pbs.twimg.com/profile_images/1401858899066580996/nwP4W7EI_normal.jpg', 'profile_image_url_https': 'https://pbs.twimg.com/profile_images/1401858899066580996/nwP4W7EI_normal.jpg', 'profile_banner_url': 'https://pbs.twimg.com/profile_banners/1335862005542973441/1613135369', 'profile_link_color': '1DA1F2', 'profile_sidebar_border_color': 'C0DEED', 'profile_sidebar_fill_color': 'DDEEF6', 'profile_text_color': '333333', 'profile_use_background_image': True, 'has_extended_profile': True, 'default_profile': True, 'default_profile_image': False, 'following': False, 'follow_request_sent': False, 'notifications': False, 'translator_type': 'none', 'withheld_in_countries': []}, 'geo': None, 'coordinates': None, 'place': None, 'contributors': None, 'is_quote_status': False, 'retweet_count': 0, 'favorite_count': 0, 'favorited': False, 'retweeted': False, 'lang': 'en'}, created_at=datetime.datetime(2021, 6, 29, 18, 6, 27), id=1409936315878019072, id_str='1409936315878019072', full_text='@bunnyreddyyy Kane supports RCB and he is part of England foot ball team so England never gonna be winning Euro.\\n\\nHistory reckons RCB s IPL title is 0', truncated=False, display_text_range=[14, 150], entities={'hashtags': [], 'symbols': [], 'user_mentions': [{'screen_name': 'bunnyreddyyy', 'name': 'bunny', 'id': 1384067963699875848, 'id_str': '1384067963699875848', 'indices': [0, 13]}], 'urls': []}, metadata={'iso_language_code': 'en', 'result_type': 'recent'}, source='Twitter for Android', source_url='http://twitter.com/download/android', in_reply_to_status_id=1409919661810929665, in_reply_to_status_id_str='1409919661810929665', in_reply_to_user_id=1384067963699875848, in_reply_to_user_id_str='1384067963699875848', in_reply_to_screen_name='bunnyreddyyy', author=User(_api=<tweepy.api.API object at 0x0000024FA9D90400>, _json={'id': 1335862005542973441, 'id_str': '1335862005542973441', 'name': '👑 No.1 Arjun Tendulkar FAN BOY👑', 'screen_name': 'Boskeyswag', 'location': '', 'description': 'India\\n\\nActivist, Social Worker, Media Person. \\n\\nJournalist', 'url': None, 'entities': {'description': {'urls': []}}, 'protected': False, 'followers_count': 367, 'friends_count': 4967, 'listed_count': 0, 'created_at': 'Mon Dec 07 08:21:47 +0000 2020', 'favourites_count': 605, 'utc_offset': None, 'time_zone': None, 'geo_enabled': False, 'verified': False, 'statuses_count': 8972, 'lang': None, 'contributors_enabled': False, 'is_translator': False, 'is_translation_enabled': False, 'profile_background_color': 'F5F8FA', 'profile_background_image_url': None, 'profile_background_image_url_https': None, 'profile_background_tile': False, 'profile_image_url': 'http://pbs.twimg.com/profile_images/1401858899066580996/nwP4W7EI_normal.jpg', 'profile_image_url_https': 'https://pbs.twimg.com/profile_images/1401858899066580996/nwP4W7EI_normal.jpg', 'profile_banner_url': 'https://pbs.twimg.com/profile_banners/1335862005542973441/1613135369', 'profile_link_color': '1DA1F2', 'profile_sidebar_border_color': 'C0DEED', 'profile_sidebar_fill_color': 'DDEEF6', 'profile_text_color': '333333', 'profile_use_background_image': True, 'has_extended_profile': True, 'default_profile': True, 'default_profile_image': False, 'following': False, 'follow_request_sent': False, 'notifications': False, 'translator_type': 'none', 'withheld_in_countries': []}, id=1335862005542973441, id_str='1335862005542973441', name='👑 No.1 Arjun Tendulkar FAN BOY👑', screen_name='Boskeyswag', location='', description='India\\n\\nActivist, Social Worker, Media Person. \\n\\nJournalist', url=None, entities={'description': {'urls': []}}, protected=False, followers_count=367, friends_count=4967, listed_count=0, created_at=datetime.datetime(2020, 12, 7, 8, 21, 47), favourites_count=605, utc_offset=None, time_zone=None, geo_enabled=False, verified=False, statuses_count=8972, lang=None, contributors_enabled=False, is_translator=False, is_translation_enabled=False, profile_background_color='F5F8FA', profile_background_image_url=None, profile_background_image_url_https=None, profile_background_tile=False, profile_image_url='http://pbs.twimg.com/profile_images/1401858899066580996/nwP4W7EI_normal.jpg', profile_image_url_https='https://pbs.twimg.com/profile_images/1401858899066580996/nwP4W7EI_normal.jpg', profile_banner_url='https://pbs.twimg.com/profile_banners/1335862005542973441/1613135369', profile_link_color='1DA1F2', profile_sidebar_border_color='C0DEED', profile_sidebar_fill_color='DDEEF6', profile_text_color='333333', profile_use_background_image=True, has_extended_profile=True, default_profile=True, default_profile_image=False, following=False, follow_request_sent=False, notifications=False, translator_type='none', withheld_in_countries=[]), user=User(_api=<tweepy.api.API object at 0x0000024FA9D90400>, _json={'id': 1335862005542973441, 'id_str': '1335862005542973441', 'name': '👑 No.1 Arjun Tendulkar FAN BOY👑', 'screen_name': 'Boskeyswag', 'location': '', 'description': 'India\\n\\nActivist, Social Worker, Media Person. \\n\\nJournalist', 'url': None, 'entities': {'description': {'urls': []}}, 'protected': False, 'followers_count': 367, 'friends_count': 4967, 'listed_count': 0, 'created_at': 'Mon Dec 07 08:21:47 +0000 2020', 'favourites_count': 605, 'utc_offset': None, 'time_zone': None, 'geo_enabled': False, 'verified': False, 'statuses_count': 8972, 'lang': None, 'contributors_enabled': False, 'is_translator': False, 'is_translation_enabled': False, 'profile_background_color': 'F5F8FA', 'profile_background_image_url': None, 'profile_background_image_url_https': None, 'profile_background_tile': False, 'profile_image_url': 'http://pbs.twimg.com/profile_images/1401858899066580996/nwP4W7EI_normal.jpg', 'profile_image_url_https': 'https://pbs.twimg.com/profile_images/1401858899066580996/nwP4W7EI_normal.jpg', 'profile_banner_url': 'https://pbs.twimg.com/profile_banners/1335862005542973441/1613135369', 'profile_link_color': '1DA1F2', 'profile_sidebar_border_color': 'C0DEED', 'profile_sidebar_fill_color': 'DDEEF6', 'profile_text_color': '333333', 'profile_use_background_image': True, 'has_extended_profile': True, 'default_profile': True, 'default_profile_image': False, 'following': False, 'follow_request_sent': False, 'notifications': False, 'translator_type': 'none', 'withheld_in_countries': []}, id=1335862005542973441, id_str='1335862005542973441', name='👑 No.1 Arjun Tendulkar FAN BOY👑', screen_name='Boskeyswag', location='', description='India\\n\\nActivist, Social Worker, Media Person. \\n\\nJournalist', url=None, entities={'description': {'urls': []}}, protected=False, followers_count=367, friends_count=4967, listed_count=0, created_at=datetime.datetime(2020, 12, 7, 8, 21, 47), favourites_count=605, utc_offset=None, time_zone=None, geo_enabled=False, verified=False, statuses_count=8972, lang=None, contributors_enabled=False, is_translator=False, is_translation_enabled=False, profile_background_color='F5F8FA', profile_background_image_url=None, profile_background_image_url_https=None, profile_background_tile=False, profile_image_url='http://pbs.twimg.com/profile_images/1401858899066580996/nwP4W7EI_normal.jpg', profile_image_url_https='https://pbs.twimg.com/profile_images/1401858899066580996/nwP4W7EI_normal.jpg', profile_banner_url='https://pbs.twimg.com/profile_banners/1335862005542973441/1613135369', profile_link_color='1DA1F2', profile_sidebar_border_color='C0DEED', profile_sidebar_fill_color='DDEEF6', profile_text_color='333333', profile_use_background_image=True, has_extended_profile=True, default_profile=True, default_profile_image=False, following=False, follow_request_sent=False, notifications=False, translator_type='none', withheld_in_countries=[]), geo=None, coordinates=None, place=None, contributors=None, is_quote_status=False, retweet_count=0, favorite_count=0, favorited=False, retweeted=False, lang='en') \n",
      "\n",
      ".....................................\n",
      "\n",
      "Status(_api=<tweepy.api.API object at 0x0000024FA9D90400>, _json={'created_at': 'Tue Jun 29 18:02:48 +0000 2021', 'id': 1409935395375095811, 'id_str': '1409935395375095811', 'full_text': 'Gabba win \\nVillareal winning UEL\\nInter winning Serie A\\nDjokovic beating Nadal at RG\\nNZ winning an ICC trophy\\nEngland beating Germany\\n\\n2021 is the new normal that we might witness RCB winning the IPL.', 'truncated': False, 'display_text_range': [0, 199], 'entities': {'hashtags': [], 'symbols': [], 'user_mentions': [], 'urls': []}, 'metadata': {'iso_language_code': 'en', 'result_type': 'recent'}, 'source': '<a href=\"https://mobile.twitter.com\" rel=\"nofollow\">Twitter Web App</a>', 'in_reply_to_status_id': None, 'in_reply_to_status_id_str': None, 'in_reply_to_user_id': None, 'in_reply_to_user_id_str': None, 'in_reply_to_screen_name': None, 'user': {'id': 4273787359, 'id_str': '4273787359', 'name': 'Adhithya Srinivasan', 'screen_name': 'adhisrini87', 'location': 'India', 'description': 'Prechana venuma solution venuma?', 'url': None, 'entities': {'description': {'urls': []}}, 'protected': False, 'followers_count': 308, 'friends_count': 1695, 'listed_count': 0, 'created_at': 'Wed Nov 18 01:42:50 +0000 2015', 'favourites_count': 1445, 'utc_offset': None, 'time_zone': None, 'geo_enabled': False, 'verified': False, 'statuses_count': 8994, 'lang': None, 'contributors_enabled': False, 'is_translator': False, 'is_translation_enabled': False, 'profile_background_color': 'C0DEED', 'profile_background_image_url': 'http://abs.twimg.com/images/themes/theme1/bg.png', 'profile_background_image_url_https': 'https://abs.twimg.com/images/themes/theme1/bg.png', 'profile_background_tile': False, 'profile_image_url': 'http://pbs.twimg.com/profile_images/1408842640171298816/w9xu-5Ej_normal.jpg', 'profile_image_url_https': 'https://pbs.twimg.com/profile_images/1408842640171298816/w9xu-5Ej_normal.jpg', 'profile_banner_url': 'https://pbs.twimg.com/profile_banners/4273787359/1575185669', 'profile_link_color': '1DA1F2', 'profile_sidebar_border_color': 'C0DEED', 'profile_sidebar_fill_color': 'DDEEF6', 'profile_text_color': '333333', 'profile_use_background_image': True, 'has_extended_profile': False, 'default_profile': True, 'default_profile_image': False, 'following': False, 'follow_request_sent': False, 'notifications': False, 'translator_type': 'none', 'withheld_in_countries': []}, 'geo': None, 'coordinates': None, 'place': None, 'contributors': None, 'is_quote_status': False, 'retweet_count': 0, 'favorite_count': 0, 'favorited': False, 'retweeted': False, 'lang': 'en'}, created_at=datetime.datetime(2021, 6, 29, 18, 2, 48), id=1409935395375095811, id_str='1409935395375095811', full_text='Gabba win \\nVillareal winning UEL\\nInter winning Serie A\\nDjokovic beating Nadal at RG\\nNZ winning an ICC trophy\\nEngland beating Germany\\n\\n2021 is the new normal that we might witness RCB winning the IPL.', truncated=False, display_text_range=[0, 199], entities={'hashtags': [], 'symbols': [], 'user_mentions': [], 'urls': []}, metadata={'iso_language_code': 'en', 'result_type': 'recent'}, source='Twitter Web App', source_url='https://mobile.twitter.com', in_reply_to_status_id=None, in_reply_to_status_id_str=None, in_reply_to_user_id=None, in_reply_to_user_id_str=None, in_reply_to_screen_name=None, author=User(_api=<tweepy.api.API object at 0x0000024FA9D90400>, _json={'id': 4273787359, 'id_str': '4273787359', 'name': 'Adhithya Srinivasan', 'screen_name': 'adhisrini87', 'location': 'India', 'description': 'Prechana venuma solution venuma?', 'url': None, 'entities': {'description': {'urls': []}}, 'protected': False, 'followers_count': 308, 'friends_count': 1695, 'listed_count': 0, 'created_at': 'Wed Nov 18 01:42:50 +0000 2015', 'favourites_count': 1445, 'utc_offset': None, 'time_zone': None, 'geo_enabled': False, 'verified': False, 'statuses_count': 8994, 'lang': None, 'contributors_enabled': False, 'is_translator': False, 'is_translation_enabled': False, 'profile_background_color': 'C0DEED', 'profile_background_image_url': 'http://abs.twimg.com/images/themes/theme1/bg.png', 'profile_background_image_url_https': 'https://abs.twimg.com/images/themes/theme1/bg.png', 'profile_background_tile': False, 'profile_image_url': 'http://pbs.twimg.com/profile_images/1408842640171298816/w9xu-5Ej_normal.jpg', 'profile_image_url_https': 'https://pbs.twimg.com/profile_images/1408842640171298816/w9xu-5Ej_normal.jpg', 'profile_banner_url': 'https://pbs.twimg.com/profile_banners/4273787359/1575185669', 'profile_link_color': '1DA1F2', 'profile_sidebar_border_color': 'C0DEED', 'profile_sidebar_fill_color': 'DDEEF6', 'profile_text_color': '333333', 'profile_use_background_image': True, 'has_extended_profile': False, 'default_profile': True, 'default_profile_image': False, 'following': False, 'follow_request_sent': False, 'notifications': False, 'translator_type': 'none', 'withheld_in_countries': []}, id=4273787359, id_str='4273787359', name='Adhithya Srinivasan', screen_name='adhisrini87', location='India', description='Prechana venuma solution venuma?', url=None, entities={'description': {'urls': []}}, protected=False, followers_count=308, friends_count=1695, listed_count=0, created_at=datetime.datetime(2015, 11, 18, 1, 42, 50), favourites_count=1445, utc_offset=None, time_zone=None, geo_enabled=False, verified=False, statuses_count=8994, lang=None, contributors_enabled=False, is_translator=False, is_translation_enabled=False, profile_background_color='C0DEED', profile_background_image_url='http://abs.twimg.com/images/themes/theme1/bg.png', profile_background_image_url_https='https://abs.twimg.com/images/themes/theme1/bg.png', profile_background_tile=False, profile_image_url='http://pbs.twimg.com/profile_images/1408842640171298816/w9xu-5Ej_normal.jpg', profile_image_url_https='https://pbs.twimg.com/profile_images/1408842640171298816/w9xu-5Ej_normal.jpg', profile_banner_url='https://pbs.twimg.com/profile_banners/4273787359/1575185669', profile_link_color='1DA1F2', profile_sidebar_border_color='C0DEED', profile_sidebar_fill_color='DDEEF6', profile_text_color='333333', profile_use_background_image=True, has_extended_profile=False, default_profile=True, default_profile_image=False, following=False, follow_request_sent=False, notifications=False, translator_type='none', withheld_in_countries=[]), user=User(_api=<tweepy.api.API object at 0x0000024FA9D90400>, _json={'id': 4273787359, 'id_str': '4273787359', 'name': 'Adhithya Srinivasan', 'screen_name': 'adhisrini87', 'location': 'India', 'description': 'Prechana venuma solution venuma?', 'url': None, 'entities': {'description': {'urls': []}}, 'protected': False, 'followers_count': 308, 'friends_count': 1695, 'listed_count': 0, 'created_at': 'Wed Nov 18 01:42:50 +0000 2015', 'favourites_count': 1445, 'utc_offset': None, 'time_zone': None, 'geo_enabled': False, 'verified': False, 'statuses_count': 8994, 'lang': None, 'contributors_enabled': False, 'is_translator': False, 'is_translation_enabled': False, 'profile_background_color': 'C0DEED', 'profile_background_image_url': 'http://abs.twimg.com/images/themes/theme1/bg.png', 'profile_background_image_url_https': 'https://abs.twimg.com/images/themes/theme1/bg.png', 'profile_background_tile': False, 'profile_image_url': 'http://pbs.twimg.com/profile_images/1408842640171298816/w9xu-5Ej_normal.jpg', 'profile_image_url_https': 'https://pbs.twimg.com/profile_images/1408842640171298816/w9xu-5Ej_normal.jpg', 'profile_banner_url': 'https://pbs.twimg.com/profile_banners/4273787359/1575185669', 'profile_link_color': '1DA1F2', 'profile_sidebar_border_color': 'C0DEED', 'profile_sidebar_fill_color': 'DDEEF6', 'profile_text_color': '333333', 'profile_use_background_image': True, 'has_extended_profile': False, 'default_profile': True, 'default_profile_image': False, 'following': False, 'follow_request_sent': False, 'notifications': False, 'translator_type': 'none', 'withheld_in_countries': []}, id=4273787359, id_str='4273787359', name='Adhithya Srinivasan', screen_name='adhisrini87', location='India', description='Prechana venuma solution venuma?', url=None, entities={'description': {'urls': []}}, protected=False, followers_count=308, friends_count=1695, listed_count=0, created_at=datetime.datetime(2015, 11, 18, 1, 42, 50), favourites_count=1445, utc_offset=None, time_zone=None, geo_enabled=False, verified=False, statuses_count=8994, lang=None, contributors_enabled=False, is_translator=False, is_translation_enabled=False, profile_background_color='C0DEED', profile_background_image_url='http://abs.twimg.com/images/themes/theme1/bg.png', profile_background_image_url_https='https://abs.twimg.com/images/themes/theme1/bg.png', profile_background_tile=False, profile_image_url='http://pbs.twimg.com/profile_images/1408842640171298816/w9xu-5Ej_normal.jpg', profile_image_url_https='https://pbs.twimg.com/profile_images/1408842640171298816/w9xu-5Ej_normal.jpg', profile_banner_url='https://pbs.twimg.com/profile_banners/4273787359/1575185669', profile_link_color='1DA1F2', profile_sidebar_border_color='C0DEED', profile_sidebar_fill_color='DDEEF6', profile_text_color='333333', profile_use_background_image=True, has_extended_profile=False, default_profile=True, default_profile_image=False, following=False, follow_request_sent=False, notifications=False, translator_type='none', withheld_in_countries=[]), geo=None, coordinates=None, place=None, contributors=None, is_quote_status=False, retweet_count=0, favorite_count=0, favorited=False, retweeted=False, lang='en') \n",
      "\n",
      ".....................................\n",
      "\n",
      "Status(_api=<tweepy.api.API object at 0x0000024FA9D90400>, _json={'created_at': 'Tue Jun 29 09:14:21 +0000 2021', 'id': 1409802408360771587, 'id_str': '1409802408360771587', 'full_text': 'India won 3 ICC troohies and became no.1 in test rankings for the first time without having winning mentality. 🤦🏼\\u200d♂️🤦🏼\\u200d♂️\\n\\nThese guys IQ is same as no. of IPL trophies RCB won. https://t.co/7Zr4w3LFFa', 'truncated': False, 'display_text_range': [0, 176], 'entities': {'hashtags': [], 'symbols': [], 'user_mentions': [], 'urls': [{'url': 'https://t.co/7Zr4w3LFFa', 'expanded_url': 'https://twitter.com/NM18___/status/1409732364599652352', 'display_url': 'twitter.com/NM18___/status…', 'indices': [177, 200]}]}, 'metadata': {'iso_language_code': 'en', 'result_type': 'recent'}, 'source': '<a href=\"https://mobile.twitter.com\" rel=\"nofollow\">Twitter Web App</a>', 'in_reply_to_status_id': None, 'in_reply_to_status_id_str': None, 'in_reply_to_user_id': None, 'in_reply_to_user_id_str': None, 'in_reply_to_screen_name': None, 'user': {'id': 2994126992, 'id_str': '2994126992', 'name': 'MSDIAN', 'screen_name': 'MsdianTweets', 'location': 'Stable', 'description': \"Only DHONI Matters • Spreading DHONISM\\n\\nI'm here to share MY thoughts\\n\\nEkla Chalo Re...\", 'url': None, 'entities': {'description': {'urls': []}}, 'protected': False, 'followers_count': 334, 'friends_count': 344, 'listed_count': 0, 'created_at': 'Sat Jan 24 04:03:59 +0000 2015', 'favourites_count': 12194, 'utc_offset': None, 'time_zone': None, 'geo_enabled': False, 'verified': False, 'statuses_count': 1546, 'lang': None, 'contributors_enabled': False, 'is_translator': False, 'is_translation_enabled': False, 'profile_background_color': 'C0DEED', 'profile_background_image_url': 'http://abs.twimg.com/images/themes/theme1/bg.png', 'profile_background_image_url_https': 'https://abs.twimg.com/images/themes/theme1/bg.png', 'profile_background_tile': False, 'profile_image_url': 'http://pbs.twimg.com/profile_images/1409524873131532290/NvB20Z2e_normal.jpg', 'profile_image_url_https': 'https://pbs.twimg.com/profile_images/1409524873131532290/NvB20Z2e_normal.jpg', 'profile_banner_url': 'https://pbs.twimg.com/profile_banners/2994126992/1624523582', 'profile_link_color': '1DA1F2', 'profile_sidebar_border_color': 'C0DEED', 'profile_sidebar_fill_color': 'DDEEF6', 'profile_text_color': '333333', 'profile_use_background_image': True, 'has_extended_profile': False, 'default_profile': True, 'default_profile_image': False, 'following': False, 'follow_request_sent': False, 'notifications': False, 'translator_type': 'none', 'withheld_in_countries': []}, 'geo': None, 'coordinates': None, 'place': None, 'contributors': None, 'is_quote_status': True, 'quoted_status_id': 1409732364599652352, 'quoted_status_id_str': '1409732364599652352', 'quoted_status': {'created_at': 'Tue Jun 29 04:36:01 +0000 2021', 'id': 1409732364599652352, 'id_str': '1409732364599652352', 'full_text': '@HariHaran771981 Yeah leadership. Took team from No. 7 Ranking to No. 1 in Tests, won consecutive Test Maces, made India unbeatable at home &amp; a powerhouse Overseas, brought pace bowling &amp; fitness culture, brought winning mentality', 'truncated': False, 'display_text_range': [17, 238], 'entities': {'hashtags': [], 'symbols': [], 'user_mentions': [{'screen_name': 'HariHaran771981', 'name': 'HariHaran', 'id': 881112841197105152, 'id_str': '881112841197105152', 'indices': [0, 16]}], 'urls': []}, 'metadata': {'iso_language_code': 'en', 'result_type': 'recent'}, 'source': '<a href=\"http://twitter.com/download/android\" rel=\"nofollow\">Twitter for Android</a>', 'in_reply_to_status_id': 1409732010273251343, 'in_reply_to_status_id_str': '1409732010273251343', 'in_reply_to_user_id': 881112841197105152, 'in_reply_to_user_id_str': '881112841197105152', 'in_reply_to_screen_name': 'HariHaran771981', 'user': {'id': 1409060077714087940, 'id_str': '1409060077714087940', 'name': '🐐', 'screen_name': 'NM18___', 'location': 'In your head ', 'description': 'You know me                                                                   \\nKohli & Messi prop account', 'url': None, 'entities': {'description': {'urls': []}}, 'protected': False, 'followers_count': 211, 'friends_count': 159, 'listed_count': 0, 'created_at': 'Sun Jun 27 08:04:57 +0000 2021', 'favourites_count': 332, 'utc_offset': None, 'time_zone': None, 'geo_enabled': False, 'verified': False, 'statuses_count': 306, 'lang': None, 'contributors_enabled': False, 'is_translator': False, 'is_translation_enabled': False, 'profile_background_color': 'F5F8FA', 'profile_background_image_url': None, 'profile_background_image_url_https': None, 'profile_background_tile': False, 'profile_image_url': 'http://pbs.twimg.com/profile_images/1409067365560512512/imIhE1mj_normal.jpg', 'profile_image_url_https': 'https://pbs.twimg.com/profile_images/1409067365560512512/imIhE1mj_normal.jpg', 'profile_banner_url': 'https://pbs.twimg.com/profile_banners/1409060077714087940/1624782793', 'profile_link_color': '1DA1F2', 'profile_sidebar_border_color': 'C0DEED', 'profile_sidebar_fill_color': 'DDEEF6', 'profile_text_color': '333333', 'profile_use_background_image': True, 'has_extended_profile': False, 'default_profile': True, 'default_profile_image': False, 'following': False, 'follow_request_sent': False, 'notifications': False, 'translator_type': 'none', 'withheld_in_countries': []}, 'geo': None, 'coordinates': None, 'place': None, 'contributors': None, 'is_quote_status': False, 'retweet_count': 4, 'favorite_count': 27, 'favorited': False, 'retweeted': False, 'lang': 'en'}, 'retweet_count': 4, 'favorite_count': 10, 'favorited': False, 'retweeted': False, 'possibly_sensitive': False, 'lang': 'en'}, created_at=datetime.datetime(2021, 6, 29, 9, 14, 21), id=1409802408360771587, id_str='1409802408360771587', full_text='India won 3 ICC troohies and became no.1 in test rankings for the first time without having winning mentality. 🤦🏼\\u200d♂️🤦🏼\\u200d♂️\\n\\nThese guys IQ is same as no. of IPL trophies RCB won. https://t.co/7Zr4w3LFFa', truncated=False, display_text_range=[0, 176], entities={'hashtags': [], 'symbols': [], 'user_mentions': [], 'urls': [{'url': 'https://t.co/7Zr4w3LFFa', 'expanded_url': 'https://twitter.com/NM18___/status/1409732364599652352', 'display_url': 'twitter.com/NM18___/status…', 'indices': [177, 200]}]}, metadata={'iso_language_code': 'en', 'result_type': 'recent'}, source='Twitter Web App', source_url='https://mobile.twitter.com', in_reply_to_status_id=None, in_reply_to_status_id_str=None, in_reply_to_user_id=None, in_reply_to_user_id_str=None, in_reply_to_screen_name=None, author=User(_api=<tweepy.api.API object at 0x0000024FA9D90400>, _json={'id': 2994126992, 'id_str': '2994126992', 'name': 'MSDIAN', 'screen_name': 'MsdianTweets', 'location': 'Stable', 'description': \"Only DHONI Matters • Spreading DHONISM\\n\\nI'm here to share MY thoughts\\n\\nEkla Chalo Re...\", 'url': None, 'entities': {'description': {'urls': []}}, 'protected': False, 'followers_count': 334, 'friends_count': 344, 'listed_count': 0, 'created_at': 'Sat Jan 24 04:03:59 +0000 2015', 'favourites_count': 12194, 'utc_offset': None, 'time_zone': None, 'geo_enabled': False, 'verified': False, 'statuses_count': 1546, 'lang': None, 'contributors_enabled': False, 'is_translator': False, 'is_translation_enabled': False, 'profile_background_color': 'C0DEED', 'profile_background_image_url': 'http://abs.twimg.com/images/themes/theme1/bg.png', 'profile_background_image_url_https': 'https://abs.twimg.com/images/themes/theme1/bg.png', 'profile_background_tile': False, 'profile_image_url': 'http://pbs.twimg.com/profile_images/1409524873131532290/NvB20Z2e_normal.jpg', 'profile_image_url_https': 'https://pbs.twimg.com/profile_images/1409524873131532290/NvB20Z2e_normal.jpg', 'profile_banner_url': 'https://pbs.twimg.com/profile_banners/2994126992/1624523582', 'profile_link_color': '1DA1F2', 'profile_sidebar_border_color': 'C0DEED', 'profile_sidebar_fill_color': 'DDEEF6', 'profile_text_color': '333333', 'profile_use_background_image': True, 'has_extended_profile': False, 'default_profile': True, 'default_profile_image': False, 'following': False, 'follow_request_sent': False, 'notifications': False, 'translator_type': 'none', 'withheld_in_countries': []}, id=2994126992, id_str='2994126992', name='MSDIAN', screen_name='MsdianTweets', location='Stable', description=\"Only DHONI Matters • Spreading DHONISM\\n\\nI'm here to share MY thoughts\\n\\nEkla Chalo Re...\", url=None, entities={'description': {'urls': []}}, protected=False, followers_count=334, friends_count=344, listed_count=0, created_at=datetime.datetime(2015, 1, 24, 4, 3, 59), favourites_count=12194, utc_offset=None, time_zone=None, geo_enabled=False, verified=False, statuses_count=1546, lang=None, contributors_enabled=False, is_translator=False, is_translation_enabled=False, profile_background_color='C0DEED', profile_background_image_url='http://abs.twimg.com/images/themes/theme1/bg.png', profile_background_image_url_https='https://abs.twimg.com/images/themes/theme1/bg.png', profile_background_tile=False, profile_image_url='http://pbs.twimg.com/profile_images/1409524873131532290/NvB20Z2e_normal.jpg', profile_image_url_https='https://pbs.twimg.com/profile_images/1409524873131532290/NvB20Z2e_normal.jpg', profile_banner_url='https://pbs.twimg.com/profile_banners/2994126992/1624523582', profile_link_color='1DA1F2', profile_sidebar_border_color='C0DEED', profile_sidebar_fill_color='DDEEF6', profile_text_color='333333', profile_use_background_image=True, has_extended_profile=False, default_profile=True, default_profile_image=False, following=False, follow_request_sent=False, notifications=False, translator_type='none', withheld_in_countries=[]), user=User(_api=<tweepy.api.API object at 0x0000024FA9D90400>, _json={'id': 2994126992, 'id_str': '2994126992', 'name': 'MSDIAN', 'screen_name': 'MsdianTweets', 'location': 'Stable', 'description': \"Only DHONI Matters • Spreading DHONISM\\n\\nI'm here to share MY thoughts\\n\\nEkla Chalo Re...\", 'url': None, 'entities': {'description': {'urls': []}}, 'protected': False, 'followers_count': 334, 'friends_count': 344, 'listed_count': 0, 'created_at': 'Sat Jan 24 04:03:59 +0000 2015', 'favourites_count': 12194, 'utc_offset': None, 'time_zone': None, 'geo_enabled': False, 'verified': False, 'statuses_count': 1546, 'lang': None, 'contributors_enabled': False, 'is_translator': False, 'is_translation_enabled': False, 'profile_background_color': 'C0DEED', 'profile_background_image_url': 'http://abs.twimg.com/images/themes/theme1/bg.png', 'profile_background_image_url_https': 'https://abs.twimg.com/images/themes/theme1/bg.png', 'profile_background_tile': False, 'profile_image_url': 'http://pbs.twimg.com/profile_images/1409524873131532290/NvB20Z2e_normal.jpg', 'profile_image_url_https': 'https://pbs.twimg.com/profile_images/1409524873131532290/NvB20Z2e_normal.jpg', 'profile_banner_url': 'https://pbs.twimg.com/profile_banners/2994126992/1624523582', 'profile_link_color': '1DA1F2', 'profile_sidebar_border_color': 'C0DEED', 'profile_sidebar_fill_color': 'DDEEF6', 'profile_text_color': '333333', 'profile_use_background_image': True, 'has_extended_profile': False, 'default_profile': True, 'default_profile_image': False, 'following': False, 'follow_request_sent': False, 'notifications': False, 'translator_type': 'none', 'withheld_in_countries': []}, id=2994126992, id_str='2994126992', name='MSDIAN', screen_name='MsdianTweets', location='Stable', description=\"Only DHONI Matters • Spreading DHONISM\\n\\nI'm here to share MY thoughts\\n\\nEkla Chalo Re...\", url=None, entities={'description': {'urls': []}}, protected=False, followers_count=334, friends_count=344, listed_count=0, created_at=datetime.datetime(2015, 1, 24, 4, 3, 59), favourites_count=12194, utc_offset=None, time_zone=None, geo_enabled=False, verified=False, statuses_count=1546, lang=None, contributors_enabled=False, is_translator=False, is_translation_enabled=False, profile_background_color='C0DEED', profile_background_image_url='http://abs.twimg.com/images/themes/theme1/bg.png', profile_background_image_url_https='https://abs.twimg.com/images/themes/theme1/bg.png', profile_background_tile=False, profile_image_url='http://pbs.twimg.com/profile_images/1409524873131532290/NvB20Z2e_normal.jpg', profile_image_url_https='https://pbs.twimg.com/profile_images/1409524873131532290/NvB20Z2e_normal.jpg', profile_banner_url='https://pbs.twimg.com/profile_banners/2994126992/1624523582', profile_link_color='1DA1F2', profile_sidebar_border_color='C0DEED', profile_sidebar_fill_color='DDEEF6', profile_text_color='333333', profile_use_background_image=True, has_extended_profile=False, default_profile=True, default_profile_image=False, following=False, follow_request_sent=False, notifications=False, translator_type='none', withheld_in_countries=[]), geo=None, coordinates=None, place=None, contributors=None, is_quote_status=True, quoted_status_id=1409732364599652352, quoted_status_id_str='1409732364599652352', quoted_status=Status(_api=<tweepy.api.API object at 0x0000024FA9D90400>, _json={'created_at': 'Tue Jun 29 04:36:01 +0000 2021', 'id': 1409732364599652352, 'id_str': '1409732364599652352', 'full_text': '@HariHaran771981 Yeah leadership. Took team from No. 7 Ranking to No. 1 in Tests, won consecutive Test Maces, made India unbeatable at home &amp; a powerhouse Overseas, brought pace bowling &amp; fitness culture, brought winning mentality', 'truncated': False, 'display_text_range': [17, 238], 'entities': {'hashtags': [], 'symbols': [], 'user_mentions': [{'screen_name': 'HariHaran771981', 'name': 'HariHaran', 'id': 881112841197105152, 'id_str': '881112841197105152', 'indices': [0, 16]}], 'urls': []}, 'metadata': {'iso_language_code': 'en', 'result_type': 'recent'}, 'source': '<a href=\"http://twitter.com/download/android\" rel=\"nofollow\">Twitter for Android</a>', 'in_reply_to_status_id': 1409732010273251343, 'in_reply_to_status_id_str': '1409732010273251343', 'in_reply_to_user_id': 881112841197105152, 'in_reply_to_user_id_str': '881112841197105152', 'in_reply_to_screen_name': 'HariHaran771981', 'user': {'id': 1409060077714087940, 'id_str': '1409060077714087940', 'name': '🐐', 'screen_name': 'NM18___', 'location': 'In your head ', 'description': 'You know me                                                                   \\nKohli & Messi prop account', 'url': None, 'entities': {'description': {'urls': []}}, 'protected': False, 'followers_count': 211, 'friends_count': 159, 'listed_count': 0, 'created_at': 'Sun Jun 27 08:04:57 +0000 2021', 'favourites_count': 332, 'utc_offset': None, 'time_zone': None, 'geo_enabled': False, 'verified': False, 'statuses_count': 306, 'lang': None, 'contributors_enabled': False, 'is_translator': False, 'is_translation_enabled': False, 'profile_background_color': 'F5F8FA', 'profile_background_image_url': None, 'profile_background_image_url_https': None, 'profile_background_tile': False, 'profile_image_url': 'http://pbs.twimg.com/profile_images/1409067365560512512/imIhE1mj_normal.jpg', 'profile_image_url_https': 'https://pbs.twimg.com/profile_images/1409067365560512512/imIhE1mj_normal.jpg', 'profile_banner_url': 'https://pbs.twimg.com/profile_banners/1409060077714087940/1624782793', 'profile_link_color': '1DA1F2', 'profile_sidebar_border_color': 'C0DEED', 'profile_sidebar_fill_color': 'DDEEF6', 'profile_text_color': '333333', 'profile_use_background_image': True, 'has_extended_profile': False, 'default_profile': True, 'default_profile_image': False, 'following': False, 'follow_request_sent': False, 'notifications': False, 'translator_type': 'none', 'withheld_in_countries': []}, 'geo': None, 'coordinates': None, 'place': None, 'contributors': None, 'is_quote_status': False, 'retweet_count': 4, 'favorite_count': 27, 'favorited': False, 'retweeted': False, 'lang': 'en'}, created_at=datetime.datetime(2021, 6, 29, 4, 36, 1), id=1409732364599652352, id_str='1409732364599652352', full_text='@HariHaran771981 Yeah leadership. Took team from No. 7 Ranking to No. 1 in Tests, won consecutive Test Maces, made India unbeatable at home &amp; a powerhouse Overseas, brought pace bowling &amp; fitness culture, brought winning mentality', truncated=False, display_text_range=[17, 238], entities={'hashtags': [], 'symbols': [], 'user_mentions': [{'screen_name': 'HariHaran771981', 'name': 'HariHaran', 'id': 881112841197105152, 'id_str': '881112841197105152', 'indices': [0, 16]}], 'urls': []}, metadata={'iso_language_code': 'en', 'result_type': 'recent'}, source='Twitter for Android', source_url='http://twitter.com/download/android', in_reply_to_status_id=1409732010273251343, in_reply_to_status_id_str='1409732010273251343', in_reply_to_user_id=881112841197105152, in_reply_to_user_id_str='881112841197105152', in_reply_to_screen_name='HariHaran771981', author=User(_api=<tweepy.api.API object at 0x0000024FA9D90400>, _json={'id': 1409060077714087940, 'id_str': '1409060077714087940', 'name': '🐐', 'screen_name': 'NM18___', 'location': 'In your head ', 'description': 'You know me                                                                   \\nKohli & Messi prop account', 'url': None, 'entities': {'description': {'urls': []}}, 'protected': False, 'followers_count': 211, 'friends_count': 159, 'listed_count': 0, 'created_at': 'Sun Jun 27 08:04:57 +0000 2021', 'favourites_count': 332, 'utc_offset': None, 'time_zone': None, 'geo_enabled': False, 'verified': False, 'statuses_count': 306, 'lang': None, 'contributors_enabled': False, 'is_translator': False, 'is_translation_enabled': False, 'profile_background_color': 'F5F8FA', 'profile_background_image_url': None, 'profile_background_image_url_https': None, 'profile_background_tile': False, 'profile_image_url': 'http://pbs.twimg.com/profile_images/1409067365560512512/imIhE1mj_normal.jpg', 'profile_image_url_https': 'https://pbs.twimg.com/profile_images/1409067365560512512/imIhE1mj_normal.jpg', 'profile_banner_url': 'https://pbs.twimg.com/profile_banners/1409060077714087940/1624782793', 'profile_link_color': '1DA1F2', 'profile_sidebar_border_color': 'C0DEED', 'profile_sidebar_fill_color': 'DDEEF6', 'profile_text_color': '333333', 'profile_use_background_image': True, 'has_extended_profile': False, 'default_profile': True, 'default_profile_image': False, 'following': False, 'follow_request_sent': False, 'notifications': False, 'translator_type': 'none', 'withheld_in_countries': []}, id=1409060077714087940, id_str='1409060077714087940', name='🐐', screen_name='NM18___', location='In your head ', description='You know me                                                                   \\nKohli & Messi prop account', url=None, entities={'description': {'urls': []}}, protected=False, followers_count=211, friends_count=159, listed_count=0, created_at=datetime.datetime(2021, 6, 27, 8, 4, 57), favourites_count=332, utc_offset=None, time_zone=None, geo_enabled=False, verified=False, statuses_count=306, lang=None, contributors_enabled=False, is_translator=False, is_translation_enabled=False, profile_background_color='F5F8FA', profile_background_image_url=None, profile_background_image_url_https=None, profile_background_tile=False, profile_image_url='http://pbs.twimg.com/profile_images/1409067365560512512/imIhE1mj_normal.jpg', profile_image_url_https='https://pbs.twimg.com/profile_images/1409067365560512512/imIhE1mj_normal.jpg', profile_banner_url='https://pbs.twimg.com/profile_banners/1409060077714087940/1624782793', profile_link_color='1DA1F2', profile_sidebar_border_color='C0DEED', profile_sidebar_fill_color='DDEEF6', profile_text_color='333333', profile_use_background_image=True, has_extended_profile=False, default_profile=True, default_profile_image=False, following=False, follow_request_sent=False, notifications=False, translator_type='none', withheld_in_countries=[]), user=User(_api=<tweepy.api.API object at 0x0000024FA9D90400>, _json={'id': 1409060077714087940, 'id_str': '1409060077714087940', 'name': '🐐', 'screen_name': 'NM18___', 'location': 'In your head ', 'description': 'You know me                                                                   \\nKohli & Messi prop account', 'url': None, 'entities': {'description': {'urls': []}}, 'protected': False, 'followers_count': 211, 'friends_count': 159, 'listed_count': 0, 'created_at': 'Sun Jun 27 08:04:57 +0000 2021', 'favourites_count': 332, 'utc_offset': None, 'time_zone': None, 'geo_enabled': False, 'verified': False, 'statuses_count': 306, 'lang': None, 'contributors_enabled': False, 'is_translator': False, 'is_translation_enabled': False, 'profile_background_color': 'F5F8FA', 'profile_background_image_url': None, 'profile_background_image_url_https': None, 'profile_background_tile': False, 'profile_image_url': 'http://pbs.twimg.com/profile_images/1409067365560512512/imIhE1mj_normal.jpg', 'profile_image_url_https': 'https://pbs.twimg.com/profile_images/1409067365560512512/imIhE1mj_normal.jpg', 'profile_banner_url': 'https://pbs.twimg.com/profile_banners/1409060077714087940/1624782793', 'profile_link_color': '1DA1F2', 'profile_sidebar_border_color': 'C0DEED', 'profile_sidebar_fill_color': 'DDEEF6', 'profile_text_color': '333333', 'profile_use_background_image': True, 'has_extended_profile': False, 'default_profile': True, 'default_profile_image': False, 'following': False, 'follow_request_sent': False, 'notifications': False, 'translator_type': 'none', 'withheld_in_countries': []}, id=1409060077714087940, id_str='1409060077714087940', name='🐐', screen_name='NM18___', location='In your head ', description='You know me                                                                   \\nKohli & Messi prop account', url=None, entities={'description': {'urls': []}}, protected=False, followers_count=211, friends_count=159, listed_count=0, created_at=datetime.datetime(2021, 6, 27, 8, 4, 57), favourites_count=332, utc_offset=None, time_zone=None, geo_enabled=False, verified=False, statuses_count=306, lang=None, contributors_enabled=False, is_translator=False, is_translation_enabled=False, profile_background_color='F5F8FA', profile_background_image_url=None, profile_background_image_url_https=None, profile_background_tile=False, profile_image_url='http://pbs.twimg.com/profile_images/1409067365560512512/imIhE1mj_normal.jpg', profile_image_url_https='https://pbs.twimg.com/profile_images/1409067365560512512/imIhE1mj_normal.jpg', profile_banner_url='https://pbs.twimg.com/profile_banners/1409060077714087940/1624782793', profile_link_color='1DA1F2', profile_sidebar_border_color='C0DEED', profile_sidebar_fill_color='DDEEF6', profile_text_color='333333', profile_use_background_image=True, has_extended_profile=False, default_profile=True, default_profile_image=False, following=False, follow_request_sent=False, notifications=False, translator_type='none', withheld_in_countries=[]), geo=None, coordinates=None, place=None, contributors=None, is_quote_status=False, retweet_count=4, favorite_count=27, favorited=False, retweeted=False, lang='en'), retweet_count=4, favorite_count=10, favorited=False, retweeted=False, possibly_sensitive=False, lang='en') \n",
      "\n",
      ".....................................\n",
      "\n",
      "Status(_api=<tweepy.api.API object at 0x0000024FA9D90400>, _json={'created_at': 'Mon Jun 28 16:56:50 +0000 2021', 'id': 1409556409050488834, 'id_str': '1409556409050488834', 'full_text': \"@Poojith91227500 @shashank_balnad It's so funny that ppl don't understand the difference between a bad game and choking the winning game\\n\\nThey should watch finals of IPL 2009 and IPL 2016 -- these were choking\\n\\nFinals of IPL 2011 -- this isn't choking, RCB was never in the game\", 'truncated': False, 'display_text_range': [34, 278], 'entities': {'hashtags': [], 'symbols': [], 'user_mentions': [{'screen_name': 'Poojith91227500', 'name': 'Poojith', 'id': 1306103830631784448, 'id_str': '1306103830631784448', 'indices': [0, 16]}, {'screen_name': 'shashank_balnad', 'name': 'Shashank Balnad Kukkaje😷🇮🇳', 'id': 3148036374, 'id_str': '3148036374', 'indices': [17, 33]}], 'urls': []}, 'metadata': {'iso_language_code': 'en', 'result_type': 'recent'}, 'source': '<a href=\"http://twitter.com/download/android\" rel=\"nofollow\">Twitter for Android</a>', 'in_reply_to_status_id': 1409555970057928717, 'in_reply_to_status_id_str': '1409555970057928717', 'in_reply_to_user_id': 1306103830631784448, 'in_reply_to_user_id_str': '1306103830631784448', 'in_reply_to_screen_name': 'Poojith91227500', 'user': {'id': 2955607885, 'id_str': '2955607885', 'name': 'Raghavendra ( Raghu )', 'screen_name': 'raghu_pujar21', 'location': 'India', 'description': 'Bharatiya|\\nಕನ್ನಡಿಗ| Cricket lover |\\nAnime lover |\\nAverage software engineer', 'url': None, 'entities': {'description': {'urls': []}}, 'protected': False, 'followers_count': 156, 'friends_count': 453, 'listed_count': 3, 'created_at': 'Fri Jan 02 04:40:30 +0000 2015', 'favourites_count': 39883, 'utc_offset': None, 'time_zone': None, 'geo_enabled': False, 'verified': False, 'statuses_count': 5806, 'lang': None, 'contributors_enabled': False, 'is_translator': False, 'is_translation_enabled': False, 'profile_background_color': 'C0DEED', 'profile_background_image_url': 'http://abs.twimg.com/images/themes/theme1/bg.png', 'profile_background_image_url_https': 'https://abs.twimg.com/images/themes/theme1/bg.png', 'profile_background_tile': False, 'profile_image_url': 'http://pbs.twimg.com/profile_images/1407932975161827330/iZfBX2e5_normal.jpg', 'profile_image_url_https': 'https://pbs.twimg.com/profile_images/1407932975161827330/iZfBX2e5_normal.jpg', 'profile_link_color': '1DA1F2', 'profile_sidebar_border_color': 'C0DEED', 'profile_sidebar_fill_color': 'DDEEF6', 'profile_text_color': '333333', 'profile_use_background_image': True, 'has_extended_profile': True, 'default_profile': True, 'default_profile_image': False, 'following': False, 'follow_request_sent': False, 'notifications': False, 'translator_type': 'none', 'withheld_in_countries': []}, 'geo': None, 'coordinates': None, 'place': None, 'contributors': None, 'is_quote_status': False, 'retweet_count': 0, 'favorite_count': 3, 'favorited': False, 'retweeted': False, 'lang': 'en'}, created_at=datetime.datetime(2021, 6, 28, 16, 56, 50), id=1409556409050488834, id_str='1409556409050488834', full_text=\"@Poojith91227500 @shashank_balnad It's so funny that ppl don't understand the difference between a bad game and choking the winning game\\n\\nThey should watch finals of IPL 2009 and IPL 2016 -- these were choking\\n\\nFinals of IPL 2011 -- this isn't choking, RCB was never in the game\", truncated=False, display_text_range=[34, 278], entities={'hashtags': [], 'symbols': [], 'user_mentions': [{'screen_name': 'Poojith91227500', 'name': 'Poojith', 'id': 1306103830631784448, 'id_str': '1306103830631784448', 'indices': [0, 16]}, {'screen_name': 'shashank_balnad', 'name': 'Shashank Balnad Kukkaje😷🇮🇳', 'id': 3148036374, 'id_str': '3148036374', 'indices': [17, 33]}], 'urls': []}, metadata={'iso_language_code': 'en', 'result_type': 'recent'}, source='Twitter for Android', source_url='http://twitter.com/download/android', in_reply_to_status_id=1409555970057928717, in_reply_to_status_id_str='1409555970057928717', in_reply_to_user_id=1306103830631784448, in_reply_to_user_id_str='1306103830631784448', in_reply_to_screen_name='Poojith91227500', author=User(_api=<tweepy.api.API object at 0x0000024FA9D90400>, _json={'id': 2955607885, 'id_str': '2955607885', 'name': 'Raghavendra ( Raghu )', 'screen_name': 'raghu_pujar21', 'location': 'India', 'description': 'Bharatiya|\\nಕನ್ನಡಿಗ| Cricket lover |\\nAnime lover |\\nAverage software engineer', 'url': None, 'entities': {'description': {'urls': []}}, 'protected': False, 'followers_count': 156, 'friends_count': 453, 'listed_count': 3, 'created_at': 'Fri Jan 02 04:40:30 +0000 2015', 'favourites_count': 39883, 'utc_offset': None, 'time_zone': None, 'geo_enabled': False, 'verified': False, 'statuses_count': 5806, 'lang': None, 'contributors_enabled': False, 'is_translator': False, 'is_translation_enabled': False, 'profile_background_color': 'C0DEED', 'profile_background_image_url': 'http://abs.twimg.com/images/themes/theme1/bg.png', 'profile_background_image_url_https': 'https://abs.twimg.com/images/themes/theme1/bg.png', 'profile_background_tile': False, 'profile_image_url': 'http://pbs.twimg.com/profile_images/1407932975161827330/iZfBX2e5_normal.jpg', 'profile_image_url_https': 'https://pbs.twimg.com/profile_images/1407932975161827330/iZfBX2e5_normal.jpg', 'profile_link_color': '1DA1F2', 'profile_sidebar_border_color': 'C0DEED', 'profile_sidebar_fill_color': 'DDEEF6', 'profile_text_color': '333333', 'profile_use_background_image': True, 'has_extended_profile': True, 'default_profile': True, 'default_profile_image': False, 'following': False, 'follow_request_sent': False, 'notifications': False, 'translator_type': 'none', 'withheld_in_countries': []}, id=2955607885, id_str='2955607885', name='Raghavendra ( Raghu )', screen_name='raghu_pujar21', location='India', description='Bharatiya|\\nಕನ್ನಡಿಗ| Cricket lover |\\nAnime lover |\\nAverage software engineer', url=None, entities={'description': {'urls': []}}, protected=False, followers_count=156, friends_count=453, listed_count=3, created_at=datetime.datetime(2015, 1, 2, 4, 40, 30), favourites_count=39883, utc_offset=None, time_zone=None, geo_enabled=False, verified=False, statuses_count=5806, lang=None, contributors_enabled=False, is_translator=False, is_translation_enabled=False, profile_background_color='C0DEED', profile_background_image_url='http://abs.twimg.com/images/themes/theme1/bg.png', profile_background_image_url_https='https://abs.twimg.com/images/themes/theme1/bg.png', profile_background_tile=False, profile_image_url='http://pbs.twimg.com/profile_images/1407932975161827330/iZfBX2e5_normal.jpg', profile_image_url_https='https://pbs.twimg.com/profile_images/1407932975161827330/iZfBX2e5_normal.jpg', profile_link_color='1DA1F2', profile_sidebar_border_color='C0DEED', profile_sidebar_fill_color='DDEEF6', profile_text_color='333333', profile_use_background_image=True, has_extended_profile=True, default_profile=True, default_profile_image=False, following=False, follow_request_sent=False, notifications=False, translator_type='none', withheld_in_countries=[]), user=User(_api=<tweepy.api.API object at 0x0000024FA9D90400>, _json={'id': 2955607885, 'id_str': '2955607885', 'name': 'Raghavendra ( Raghu )', 'screen_name': 'raghu_pujar21', 'location': 'India', 'description': 'Bharatiya|\\nಕನ್ನಡಿಗ| Cricket lover |\\nAnime lover |\\nAverage software engineer', 'url': None, 'entities': {'description': {'urls': []}}, 'protected': False, 'followers_count': 156, 'friends_count': 453, 'listed_count': 3, 'created_at': 'Fri Jan 02 04:40:30 +0000 2015', 'favourites_count': 39883, 'utc_offset': None, 'time_zone': None, 'geo_enabled': False, 'verified': False, 'statuses_count': 5806, 'lang': None, 'contributors_enabled': False, 'is_translator': False, 'is_translation_enabled': False, 'profile_background_color': 'C0DEED', 'profile_background_image_url': 'http://abs.twimg.com/images/themes/theme1/bg.png', 'profile_background_image_url_https': 'https://abs.twimg.com/images/themes/theme1/bg.png', 'profile_background_tile': False, 'profile_image_url': 'http://pbs.twimg.com/profile_images/1407932975161827330/iZfBX2e5_normal.jpg', 'profile_image_url_https': 'https://pbs.twimg.com/profile_images/1407932975161827330/iZfBX2e5_normal.jpg', 'profile_link_color': '1DA1F2', 'profile_sidebar_border_color': 'C0DEED', 'profile_sidebar_fill_color': 'DDEEF6', 'profile_text_color': '333333', 'profile_use_background_image': True, 'has_extended_profile': True, 'default_profile': True, 'default_profile_image': False, 'following': False, 'follow_request_sent': False, 'notifications': False, 'translator_type': 'none', 'withheld_in_countries': []}, id=2955607885, id_str='2955607885', name='Raghavendra ( Raghu )', screen_name='raghu_pujar21', location='India', description='Bharatiya|\\nಕನ್ನಡಿಗ| Cricket lover |\\nAnime lover |\\nAverage software engineer', url=None, entities={'description': {'urls': []}}, protected=False, followers_count=156, friends_count=453, listed_count=3, created_at=datetime.datetime(2015, 1, 2, 4, 40, 30), favourites_count=39883, utc_offset=None, time_zone=None, geo_enabled=False, verified=False, statuses_count=5806, lang=None, contributors_enabled=False, is_translator=False, is_translation_enabled=False, profile_background_color='C0DEED', profile_background_image_url='http://abs.twimg.com/images/themes/theme1/bg.png', profile_background_image_url_https='https://abs.twimg.com/images/themes/theme1/bg.png', profile_background_tile=False, profile_image_url='http://pbs.twimg.com/profile_images/1407932975161827330/iZfBX2e5_normal.jpg', profile_image_url_https='https://pbs.twimg.com/profile_images/1407932975161827330/iZfBX2e5_normal.jpg', profile_link_color='1DA1F2', profile_sidebar_border_color='C0DEED', profile_sidebar_fill_color='DDEEF6', profile_text_color='333333', profile_use_background_image=True, has_extended_profile=True, default_profile=True, default_profile_image=False, following=False, follow_request_sent=False, notifications=False, translator_type='none', withheld_in_countries=[]), geo=None, coordinates=None, place=None, contributors=None, is_quote_status=False, retweet_count=0, favorite_count=3, favorited=False, retweeted=False, lang='en') \n",
      "\n",
      ".....................................\n",
      "\n",
      "Status(_api=<tweepy.api.API object at 0x0000024FA9D90400>, _json={'created_at': 'Mon Jun 28 12:58:30 +0000 2021', 'id': 1409496429379284995, 'id_str': '1409496429379284995', 'full_text': \"Indian Cricket Twitter ( @BCCI ) will explode on 4 Events if it happens\\n\\n1. Kohli's 71st\\n\\n2. India Winning ICC Trophy\\n\\n3. RCB Winning IPL\\n\\n4. Rohit Sharma Scoring 1st Overseas Century\", 'truncated': False, 'display_text_range': [0, 183], 'entities': {'hashtags': [], 'symbols': [], 'user_mentions': [{'screen_name': 'BCCI', 'name': 'BCCI', 'id': 185142711, 'id_str': '185142711', 'indices': [25, 30]}], 'urls': []}, 'metadata': {'iso_language_code': 'en', 'result_type': 'recent'}, 'source': '<a href=\"http://twitter.com/download/android\" rel=\"nofollow\">Twitter for Android</a>', 'in_reply_to_status_id': None, 'in_reply_to_status_id_str': None, 'in_reply_to_user_id': None, 'in_reply_to_user_id_str': None, 'in_reply_to_screen_name': None, 'user': {'id': 1243231715855753217, 'id_str': '1243231715855753217', 'name': 'UtKaRsH SaDoTrA🇮🇳 (Stay home & Wear double mask)', 'screen_name': 'HindustaniDOGRA', 'location': ' Duggar Pradesh, जम्मू ', 'description': 'ब्राह्मण llDr.Physiotherapy student ll May be followed by @narendramodi  @imvkohli in future ll proud dogra ll proud 🇮🇳 ll JAMMU ll Now covid warrior. 😷', 'url': None, 'entities': {'description': {'urls': []}}, 'protected': False, 'followers_count': 23, 'friends_count': 155, 'listed_count': 0, 'created_at': 'Thu Mar 26 17:42:18 +0000 2020', 'favourites_count': 6882, 'utc_offset': None, 'time_zone': None, 'geo_enabled': True, 'verified': False, 'statuses_count': 935, 'lang': None, 'contributors_enabled': False, 'is_translator': False, 'is_translation_enabled': False, 'profile_background_color': 'F5F8FA', 'profile_background_image_url': None, 'profile_background_image_url_https': None, 'profile_background_tile': False, 'profile_image_url': 'http://pbs.twimg.com/profile_images/1391007328258850817/FXIwu6CK_normal.jpg', 'profile_image_url_https': 'https://pbs.twimg.com/profile_images/1391007328258850817/FXIwu6CK_normal.jpg', 'profile_banner_url': 'https://pbs.twimg.com/profile_banners/1243231715855753217/1621429290', 'profile_link_color': '1DA1F2', 'profile_sidebar_border_color': 'C0DEED', 'profile_sidebar_fill_color': 'DDEEF6', 'profile_text_color': '333333', 'profile_use_background_image': True, 'has_extended_profile': True, 'default_profile': True, 'default_profile_image': False, 'following': False, 'follow_request_sent': False, 'notifications': False, 'translator_type': 'none', 'withheld_in_countries': []}, 'geo': None, 'coordinates': None, 'place': None, 'contributors': None, 'is_quote_status': False, 'retweet_count': 0, 'favorite_count': 1, 'favorited': False, 'retweeted': False, 'lang': 'en'}, created_at=datetime.datetime(2021, 6, 28, 12, 58, 30), id=1409496429379284995, id_str='1409496429379284995', full_text=\"Indian Cricket Twitter ( @BCCI ) will explode on 4 Events if it happens\\n\\n1. Kohli's 71st\\n\\n2. India Winning ICC Trophy\\n\\n3. RCB Winning IPL\\n\\n4. Rohit Sharma Scoring 1st Overseas Century\", truncated=False, display_text_range=[0, 183], entities={'hashtags': [], 'symbols': [], 'user_mentions': [{'screen_name': 'BCCI', 'name': 'BCCI', 'id': 185142711, 'id_str': '185142711', 'indices': [25, 30]}], 'urls': []}, metadata={'iso_language_code': 'en', 'result_type': 'recent'}, source='Twitter for Android', source_url='http://twitter.com/download/android', in_reply_to_status_id=None, in_reply_to_status_id_str=None, in_reply_to_user_id=None, in_reply_to_user_id_str=None, in_reply_to_screen_name=None, author=User(_api=<tweepy.api.API object at 0x0000024FA9D90400>, _json={'id': 1243231715855753217, 'id_str': '1243231715855753217', 'name': 'UtKaRsH SaDoTrA🇮🇳 (Stay home & Wear double mask)', 'screen_name': 'HindustaniDOGRA', 'location': ' Duggar Pradesh, जम्मू ', 'description': 'ब्राह्मण llDr.Physiotherapy student ll May be followed by @narendramodi  @imvkohli in future ll proud dogra ll proud 🇮🇳 ll JAMMU ll Now covid warrior. 😷', 'url': None, 'entities': {'description': {'urls': []}}, 'protected': False, 'followers_count': 23, 'friends_count': 155, 'listed_count': 0, 'created_at': 'Thu Mar 26 17:42:18 +0000 2020', 'favourites_count': 6882, 'utc_offset': None, 'time_zone': None, 'geo_enabled': True, 'verified': False, 'statuses_count': 935, 'lang': None, 'contributors_enabled': False, 'is_translator': False, 'is_translation_enabled': False, 'profile_background_color': 'F5F8FA', 'profile_background_image_url': None, 'profile_background_image_url_https': None, 'profile_background_tile': False, 'profile_image_url': 'http://pbs.twimg.com/profile_images/1391007328258850817/FXIwu6CK_normal.jpg', 'profile_image_url_https': 'https://pbs.twimg.com/profile_images/1391007328258850817/FXIwu6CK_normal.jpg', 'profile_banner_url': 'https://pbs.twimg.com/profile_banners/1243231715855753217/1621429290', 'profile_link_color': '1DA1F2', 'profile_sidebar_border_color': 'C0DEED', 'profile_sidebar_fill_color': 'DDEEF6', 'profile_text_color': '333333', 'profile_use_background_image': True, 'has_extended_profile': True, 'default_profile': True, 'default_profile_image': False, 'following': False, 'follow_request_sent': False, 'notifications': False, 'translator_type': 'none', 'withheld_in_countries': []}, id=1243231715855753217, id_str='1243231715855753217', name='UtKaRsH SaDoTrA🇮🇳 (Stay home & Wear double mask)', screen_name='HindustaniDOGRA', location=' Duggar Pradesh, जम्मू ', description='ब्राह्मण llDr.Physiotherapy student ll May be followed by @narendramodi  @imvkohli in future ll proud dogra ll proud 🇮🇳 ll JAMMU ll Now covid warrior. 😷', url=None, entities={'description': {'urls': []}}, protected=False, followers_count=23, friends_count=155, listed_count=0, created_at=datetime.datetime(2020, 3, 26, 17, 42, 18), favourites_count=6882, utc_offset=None, time_zone=None, geo_enabled=True, verified=False, statuses_count=935, lang=None, contributors_enabled=False, is_translator=False, is_translation_enabled=False, profile_background_color='F5F8FA', profile_background_image_url=None, profile_background_image_url_https=None, profile_background_tile=False, profile_image_url='http://pbs.twimg.com/profile_images/1391007328258850817/FXIwu6CK_normal.jpg', profile_image_url_https='https://pbs.twimg.com/profile_images/1391007328258850817/FXIwu6CK_normal.jpg', profile_banner_url='https://pbs.twimg.com/profile_banners/1243231715855753217/1621429290', profile_link_color='1DA1F2', profile_sidebar_border_color='C0DEED', profile_sidebar_fill_color='DDEEF6', profile_text_color='333333', profile_use_background_image=True, has_extended_profile=True, default_profile=True, default_profile_image=False, following=False, follow_request_sent=False, notifications=False, translator_type='none', withheld_in_countries=[]), user=User(_api=<tweepy.api.API object at 0x0000024FA9D90400>, _json={'id': 1243231715855753217, 'id_str': '1243231715855753217', 'name': 'UtKaRsH SaDoTrA🇮🇳 (Stay home & Wear double mask)', 'screen_name': 'HindustaniDOGRA', 'location': ' Duggar Pradesh, जम्मू ', 'description': 'ब्राह्मण llDr.Physiotherapy student ll May be followed by @narendramodi  @imvkohli in future ll proud dogra ll proud 🇮🇳 ll JAMMU ll Now covid warrior. 😷', 'url': None, 'entities': {'description': {'urls': []}}, 'protected': False, 'followers_count': 23, 'friends_count': 155, 'listed_count': 0, 'created_at': 'Thu Mar 26 17:42:18 +0000 2020', 'favourites_count': 6882, 'utc_offset': None, 'time_zone': None, 'geo_enabled': True, 'verified': False, 'statuses_count': 935, 'lang': None, 'contributors_enabled': False, 'is_translator': False, 'is_translation_enabled': False, 'profile_background_color': 'F5F8FA', 'profile_background_image_url': None, 'profile_background_image_url_https': None, 'profile_background_tile': False, 'profile_image_url': 'http://pbs.twimg.com/profile_images/1391007328258850817/FXIwu6CK_normal.jpg', 'profile_image_url_https': 'https://pbs.twimg.com/profile_images/1391007328258850817/FXIwu6CK_normal.jpg', 'profile_banner_url': 'https://pbs.twimg.com/profile_banners/1243231715855753217/1621429290', 'profile_link_color': '1DA1F2', 'profile_sidebar_border_color': 'C0DEED', 'profile_sidebar_fill_color': 'DDEEF6', 'profile_text_color': '333333', 'profile_use_background_image': True, 'has_extended_profile': True, 'default_profile': True, 'default_profile_image': False, 'following': False, 'follow_request_sent': False, 'notifications': False, 'translator_type': 'none', 'withheld_in_countries': []}, id=1243231715855753217, id_str='1243231715855753217', name='UtKaRsH SaDoTrA🇮🇳 (Stay home & Wear double mask)', screen_name='HindustaniDOGRA', location=' Duggar Pradesh, जम्मू ', description='ब्राह्मण llDr.Physiotherapy student ll May be followed by @narendramodi  @imvkohli in future ll proud dogra ll proud 🇮🇳 ll JAMMU ll Now covid warrior. 😷', url=None, entities={'description': {'urls': []}}, protected=False, followers_count=23, friends_count=155, listed_count=0, created_at=datetime.datetime(2020, 3, 26, 17, 42, 18), favourites_count=6882, utc_offset=None, time_zone=None, geo_enabled=True, verified=False, statuses_count=935, lang=None, contributors_enabled=False, is_translator=False, is_translation_enabled=False, profile_background_color='F5F8FA', profile_background_image_url=None, profile_background_image_url_https=None, profile_background_tile=False, profile_image_url='http://pbs.twimg.com/profile_images/1391007328258850817/FXIwu6CK_normal.jpg', profile_image_url_https='https://pbs.twimg.com/profile_images/1391007328258850817/FXIwu6CK_normal.jpg', profile_banner_url='https://pbs.twimg.com/profile_banners/1243231715855753217/1621429290', profile_link_color='1DA1F2', profile_sidebar_border_color='C0DEED', profile_sidebar_fill_color='DDEEF6', profile_text_color='333333', profile_use_background_image=True, has_extended_profile=True, default_profile=True, default_profile_image=False, following=False, follow_request_sent=False, notifications=False, translator_type='none', withheld_in_countries=[]), geo=None, coordinates=None, place=None, contributors=None, is_quote_status=False, retweet_count=0, favorite_count=1, favorited=False, retweeted=False, lang='en') \n",
      "\n",
      ".....................................\n",
      "\n",
      "Status(_api=<tweepy.api.API object at 0x0000024FA9D90400>, _json={'created_at': 'Mon Jun 28 10:23:00 +0000 2021', 'id': 1409457297407954947, 'id_str': '1409457297407954947', 'full_text': '@DarkKnightRised Honestly.. apart from india winning ICC trophy nothing will explode indian CT.. not everyone care about RCB winning IPL..only their fans will explode not everyone.. virat &amp; rohit scoring hundred..it will be celebrated bt nothing like explode', 'truncated': False, 'display_text_range': [17, 262], 'entities': {'hashtags': [], 'symbols': [], 'user_mentions': [{'screen_name': 'DarkKnightRised', 'name': 'DK 🐴', 'id': 1270031419180560385, 'id_str': '1270031419180560385', 'indices': [0, 16]}], 'urls': []}, 'metadata': {'iso_language_code': 'en', 'result_type': 'recent'}, 'source': '<a href=\"http://twitter.com/download/android\" rel=\"nofollow\">Twitter for Android</a>', 'in_reply_to_status_id': 1409193960455557121, 'in_reply_to_status_id_str': '1409193960455557121', 'in_reply_to_user_id': 1270031419180560385, 'in_reply_to_user_id_str': '1270031419180560385', 'in_reply_to_screen_name': 'DarkKnightRised', 'user': {'id': 1324776853, 'id_str': '1324776853', 'name': 'Cricket ka Keeda', 'screen_name': 'Sanarsh17', 'location': 'Ghaziabad, India', 'description': 'Cricket enthusiast.. Troller.. A full time social media guy par vella na samajhna😂', 'url': 'https://t.co/0EupT0SV7o', 'entities': {'url': {'urls': [{'url': 'https://t.co/0EupT0SV7o', 'expanded_url': 'http://www.rajnikanthvsCIDjokes.com', 'display_url': 'rajnikanthvsCIDjokes.com', 'indices': [0, 23]}]}, 'description': {'urls': []}}, 'protected': False, 'followers_count': 191, 'friends_count': 688, 'listed_count': 11, 'created_at': 'Wed Apr 03 14:53:38 +0000 2013', 'favourites_count': 243, 'utc_offset': None, 'time_zone': None, 'geo_enabled': True, 'verified': False, 'statuses_count': 4477, 'lang': None, 'contributors_enabled': False, 'is_translator': False, 'is_translation_enabled': False, 'profile_background_color': 'C0DEED', 'profile_background_image_url': 'http://abs.twimg.com/images/themes/theme1/bg.png', 'profile_background_image_url_https': 'https://abs.twimg.com/images/themes/theme1/bg.png', 'profile_background_tile': False, 'profile_image_url': 'http://pbs.twimg.com/profile_images/574097226789584896/W2o3zPHb_normal.jpeg', 'profile_image_url_https': 'https://pbs.twimg.com/profile_images/574097226789584896/W2o3zPHb_normal.jpeg', 'profile_link_color': '1DA1F2', 'profile_sidebar_border_color': 'C0DEED', 'profile_sidebar_fill_color': 'DDEEF6', 'profile_text_color': '333333', 'profile_use_background_image': True, 'has_extended_profile': False, 'default_profile': True, 'default_profile_image': False, 'following': False, 'follow_request_sent': False, 'notifications': False, 'translator_type': 'none', 'withheld_in_countries': []}, 'geo': None, 'coordinates': None, 'place': None, 'contributors': None, 'is_quote_status': False, 'retweet_count': 0, 'favorite_count': 0, 'favorited': False, 'retweeted': False, 'lang': 'en'}, created_at=datetime.datetime(2021, 6, 28, 10, 23), id=1409457297407954947, id_str='1409457297407954947', full_text='@DarkKnightRised Honestly.. apart from india winning ICC trophy nothing will explode indian CT.. not everyone care about RCB winning IPL..only their fans will explode not everyone.. virat &amp; rohit scoring hundred..it will be celebrated bt nothing like explode', truncated=False, display_text_range=[17, 262], entities={'hashtags': [], 'symbols': [], 'user_mentions': [{'screen_name': 'DarkKnightRised', 'name': 'DK 🐴', 'id': 1270031419180560385, 'id_str': '1270031419180560385', 'indices': [0, 16]}], 'urls': []}, metadata={'iso_language_code': 'en', 'result_type': 'recent'}, source='Twitter for Android', source_url='http://twitter.com/download/android', in_reply_to_status_id=1409193960455557121, in_reply_to_status_id_str='1409193960455557121', in_reply_to_user_id=1270031419180560385, in_reply_to_user_id_str='1270031419180560385', in_reply_to_screen_name='DarkKnightRised', author=User(_api=<tweepy.api.API object at 0x0000024FA9D90400>, _json={'id': 1324776853, 'id_str': '1324776853', 'name': 'Cricket ka Keeda', 'screen_name': 'Sanarsh17', 'location': 'Ghaziabad, India', 'description': 'Cricket enthusiast.. Troller.. A full time social media guy par vella na samajhna😂', 'url': 'https://t.co/0EupT0SV7o', 'entities': {'url': {'urls': [{'url': 'https://t.co/0EupT0SV7o', 'expanded_url': 'http://www.rajnikanthvsCIDjokes.com', 'display_url': 'rajnikanthvsCIDjokes.com', 'indices': [0, 23]}]}, 'description': {'urls': []}}, 'protected': False, 'followers_count': 191, 'friends_count': 688, 'listed_count': 11, 'created_at': 'Wed Apr 03 14:53:38 +0000 2013', 'favourites_count': 243, 'utc_offset': None, 'time_zone': None, 'geo_enabled': True, 'verified': False, 'statuses_count': 4477, 'lang': None, 'contributors_enabled': False, 'is_translator': False, 'is_translation_enabled': False, 'profile_background_color': 'C0DEED', 'profile_background_image_url': 'http://abs.twimg.com/images/themes/theme1/bg.png', 'profile_background_image_url_https': 'https://abs.twimg.com/images/themes/theme1/bg.png', 'profile_background_tile': False, 'profile_image_url': 'http://pbs.twimg.com/profile_images/574097226789584896/W2o3zPHb_normal.jpeg', 'profile_image_url_https': 'https://pbs.twimg.com/profile_images/574097226789584896/W2o3zPHb_normal.jpeg', 'profile_link_color': '1DA1F2', 'profile_sidebar_border_color': 'C0DEED', 'profile_sidebar_fill_color': 'DDEEF6', 'profile_text_color': '333333', 'profile_use_background_image': True, 'has_extended_profile': False, 'default_profile': True, 'default_profile_image': False, 'following': False, 'follow_request_sent': False, 'notifications': False, 'translator_type': 'none', 'withheld_in_countries': []}, id=1324776853, id_str='1324776853', name='Cricket ka Keeda', screen_name='Sanarsh17', location='Ghaziabad, India', description='Cricket enthusiast.. Troller.. A full time social media guy par vella na samajhna😂', url='https://t.co/0EupT0SV7o', entities={'url': {'urls': [{'url': 'https://t.co/0EupT0SV7o', 'expanded_url': 'http://www.rajnikanthvsCIDjokes.com', 'display_url': 'rajnikanthvsCIDjokes.com', 'indices': [0, 23]}]}, 'description': {'urls': []}}, protected=False, followers_count=191, friends_count=688, listed_count=11, created_at=datetime.datetime(2013, 4, 3, 14, 53, 38), favourites_count=243, utc_offset=None, time_zone=None, geo_enabled=True, verified=False, statuses_count=4477, lang=None, contributors_enabled=False, is_translator=False, is_translation_enabled=False, profile_background_color='C0DEED', profile_background_image_url='http://abs.twimg.com/images/themes/theme1/bg.png', profile_background_image_url_https='https://abs.twimg.com/images/themes/theme1/bg.png', profile_background_tile=False, profile_image_url='http://pbs.twimg.com/profile_images/574097226789584896/W2o3zPHb_normal.jpeg', profile_image_url_https='https://pbs.twimg.com/profile_images/574097226789584896/W2o3zPHb_normal.jpeg', profile_link_color='1DA1F2', profile_sidebar_border_color='C0DEED', profile_sidebar_fill_color='DDEEF6', profile_text_color='333333', profile_use_background_image=True, has_extended_profile=False, default_profile=True, default_profile_image=False, following=False, follow_request_sent=False, notifications=False, translator_type='none', withheld_in_countries=[]), user=User(_api=<tweepy.api.API object at 0x0000024FA9D90400>, _json={'id': 1324776853, 'id_str': '1324776853', 'name': 'Cricket ka Keeda', 'screen_name': 'Sanarsh17', 'location': 'Ghaziabad, India', 'description': 'Cricket enthusiast.. Troller.. A full time social media guy par vella na samajhna😂', 'url': 'https://t.co/0EupT0SV7o', 'entities': {'url': {'urls': [{'url': 'https://t.co/0EupT0SV7o', 'expanded_url': 'http://www.rajnikanthvsCIDjokes.com', 'display_url': 'rajnikanthvsCIDjokes.com', 'indices': [0, 23]}]}, 'description': {'urls': []}}, 'protected': False, 'followers_count': 191, 'friends_count': 688, 'listed_count': 11, 'created_at': 'Wed Apr 03 14:53:38 +0000 2013', 'favourites_count': 243, 'utc_offset': None, 'time_zone': None, 'geo_enabled': True, 'verified': False, 'statuses_count': 4477, 'lang': None, 'contributors_enabled': False, 'is_translator': False, 'is_translation_enabled': False, 'profile_background_color': 'C0DEED', 'profile_background_image_url': 'http://abs.twimg.com/images/themes/theme1/bg.png', 'profile_background_image_url_https': 'https://abs.twimg.com/images/themes/theme1/bg.png', 'profile_background_tile': False, 'profile_image_url': 'http://pbs.twimg.com/profile_images/574097226789584896/W2o3zPHb_normal.jpeg', 'profile_image_url_https': 'https://pbs.twimg.com/profile_images/574097226789584896/W2o3zPHb_normal.jpeg', 'profile_link_color': '1DA1F2', 'profile_sidebar_border_color': 'C0DEED', 'profile_sidebar_fill_color': 'DDEEF6', 'profile_text_color': '333333', 'profile_use_background_image': True, 'has_extended_profile': False, 'default_profile': True, 'default_profile_image': False, 'following': False, 'follow_request_sent': False, 'notifications': False, 'translator_type': 'none', 'withheld_in_countries': []}, id=1324776853, id_str='1324776853', name='Cricket ka Keeda', screen_name='Sanarsh17', location='Ghaziabad, India', description='Cricket enthusiast.. Troller.. A full time social media guy par vella na samajhna😂', url='https://t.co/0EupT0SV7o', entities={'url': {'urls': [{'url': 'https://t.co/0EupT0SV7o', 'expanded_url': 'http://www.rajnikanthvsCIDjokes.com', 'display_url': 'rajnikanthvsCIDjokes.com', 'indices': [0, 23]}]}, 'description': {'urls': []}}, protected=False, followers_count=191, friends_count=688, listed_count=11, created_at=datetime.datetime(2013, 4, 3, 14, 53, 38), favourites_count=243, utc_offset=None, time_zone=None, geo_enabled=True, verified=False, statuses_count=4477, lang=None, contributors_enabled=False, is_translator=False, is_translation_enabled=False, profile_background_color='C0DEED', profile_background_image_url='http://abs.twimg.com/images/themes/theme1/bg.png', profile_background_image_url_https='https://abs.twimg.com/images/themes/theme1/bg.png', profile_background_tile=False, profile_image_url='http://pbs.twimg.com/profile_images/574097226789584896/W2o3zPHb_normal.jpeg', profile_image_url_https='https://pbs.twimg.com/profile_images/574097226789584896/W2o3zPHb_normal.jpeg', profile_link_color='1DA1F2', profile_sidebar_border_color='C0DEED', profile_sidebar_fill_color='DDEEF6', profile_text_color='333333', profile_use_background_image=True, has_extended_profile=False, default_profile=True, default_profile_image=False, following=False, follow_request_sent=False, notifications=False, translator_type='none', withheld_in_countries=[]), geo=None, coordinates=None, place=None, contributors=None, is_quote_status=False, retweet_count=0, favorite_count=0, favorited=False, retweeted=False, lang='en') \n",
      "\n",
      ".....................................\n",
      "\n",
      "Status(_api=<tweepy.api.API object at 0x0000024FA9D90400>, _json={'created_at': 'Mon Jun 28 07:47:17 +0000 2021', 'id': 1409418108767399951, 'id_str': '1409418108767399951', 'full_text': '@DarkKnightRised Rcb winning ipl', 'truncated': False, 'display_text_range': [17, 32], 'entities': {'hashtags': [], 'symbols': [], 'user_mentions': [{'screen_name': 'DarkKnightRised', 'name': 'DK 🐴', 'id': 1270031419180560385, 'id_str': '1270031419180560385', 'indices': [0, 16]}], 'urls': []}, 'metadata': {'iso_language_code': 'en', 'result_type': 'recent'}, 'source': '<a href=\"http://twitter.com/download/android\" rel=\"nofollow\">Twitter for Android</a>', 'in_reply_to_status_id': 1409193960455557121, 'in_reply_to_status_id_str': '1409193960455557121', 'in_reply_to_user_id': 1270031419180560385, 'in_reply_to_user_id_str': '1270031419180560385', 'in_reply_to_screen_name': 'DarkKnightRised', 'user': {'id': 1296831518900453378, 'id_str': '1296831518900453378', 'name': 'Mahanthesh M R', 'screen_name': 'MahantheshMR1', 'location': '', 'description': '', 'url': None, 'entities': {'description': {'urls': []}}, 'protected': False, 'followers_count': 2, 'friends_count': 15, 'listed_count': 0, 'created_at': 'Fri Aug 21 15:29:14 +0000 2020', 'favourites_count': 2218, 'utc_offset': None, 'time_zone': None, 'geo_enabled': False, 'verified': False, 'statuses_count': 44, 'lang': None, 'contributors_enabled': False, 'is_translator': False, 'is_translation_enabled': False, 'profile_background_color': 'F5F8FA', 'profile_background_image_url': None, 'profile_background_image_url_https': None, 'profile_background_tile': False, 'profile_image_url': 'http://pbs.twimg.com/profile_images/1296831998091132928/8JAF2ncw_normal.jpg', 'profile_image_url_https': 'https://pbs.twimg.com/profile_images/1296831998091132928/8JAF2ncw_normal.jpg', 'profile_link_color': '1DA1F2', 'profile_sidebar_border_color': 'C0DEED', 'profile_sidebar_fill_color': 'DDEEF6', 'profile_text_color': '333333', 'profile_use_background_image': True, 'has_extended_profile': True, 'default_profile': True, 'default_profile_image': False, 'following': False, 'follow_request_sent': False, 'notifications': False, 'translator_type': 'none', 'withheld_in_countries': []}, 'geo': None, 'coordinates': None, 'place': None, 'contributors': None, 'is_quote_status': False, 'retweet_count': 0, 'favorite_count': 0, 'favorited': False, 'retweeted': False, 'lang': 'en'}, created_at=datetime.datetime(2021, 6, 28, 7, 47, 17), id=1409418108767399951, id_str='1409418108767399951', full_text='@DarkKnightRised Rcb winning ipl', truncated=False, display_text_range=[17, 32], entities={'hashtags': [], 'symbols': [], 'user_mentions': [{'screen_name': 'DarkKnightRised', 'name': 'DK 🐴', 'id': 1270031419180560385, 'id_str': '1270031419180560385', 'indices': [0, 16]}], 'urls': []}, metadata={'iso_language_code': 'en', 'result_type': 'recent'}, source='Twitter for Android', source_url='http://twitter.com/download/android', in_reply_to_status_id=1409193960455557121, in_reply_to_status_id_str='1409193960455557121', in_reply_to_user_id=1270031419180560385, in_reply_to_user_id_str='1270031419180560385', in_reply_to_screen_name='DarkKnightRised', author=User(_api=<tweepy.api.API object at 0x0000024FA9D90400>, _json={'id': 1296831518900453378, 'id_str': '1296831518900453378', 'name': 'Mahanthesh M R', 'screen_name': 'MahantheshMR1', 'location': '', 'description': '', 'url': None, 'entities': {'description': {'urls': []}}, 'protected': False, 'followers_count': 2, 'friends_count': 15, 'listed_count': 0, 'created_at': 'Fri Aug 21 15:29:14 +0000 2020', 'favourites_count': 2218, 'utc_offset': None, 'time_zone': None, 'geo_enabled': False, 'verified': False, 'statuses_count': 44, 'lang': None, 'contributors_enabled': False, 'is_translator': False, 'is_translation_enabled': False, 'profile_background_color': 'F5F8FA', 'profile_background_image_url': None, 'profile_background_image_url_https': None, 'profile_background_tile': False, 'profile_image_url': 'http://pbs.twimg.com/profile_images/1296831998091132928/8JAF2ncw_normal.jpg', 'profile_image_url_https': 'https://pbs.twimg.com/profile_images/1296831998091132928/8JAF2ncw_normal.jpg', 'profile_link_color': '1DA1F2', 'profile_sidebar_border_color': 'C0DEED', 'profile_sidebar_fill_color': 'DDEEF6', 'profile_text_color': '333333', 'profile_use_background_image': True, 'has_extended_profile': True, 'default_profile': True, 'default_profile_image': False, 'following': False, 'follow_request_sent': False, 'notifications': False, 'translator_type': 'none', 'withheld_in_countries': []}, id=1296831518900453378, id_str='1296831518900453378', name='Mahanthesh M R', screen_name='MahantheshMR1', location='', description='', url=None, entities={'description': {'urls': []}}, protected=False, followers_count=2, friends_count=15, listed_count=0, created_at=datetime.datetime(2020, 8, 21, 15, 29, 14), favourites_count=2218, utc_offset=None, time_zone=None, geo_enabled=False, verified=False, statuses_count=44, lang=None, contributors_enabled=False, is_translator=False, is_translation_enabled=False, profile_background_color='F5F8FA', profile_background_image_url=None, profile_background_image_url_https=None, profile_background_tile=False, profile_image_url='http://pbs.twimg.com/profile_images/1296831998091132928/8JAF2ncw_normal.jpg', profile_image_url_https='https://pbs.twimg.com/profile_images/1296831998091132928/8JAF2ncw_normal.jpg', profile_link_color='1DA1F2', profile_sidebar_border_color='C0DEED', profile_sidebar_fill_color='DDEEF6', profile_text_color='333333', profile_use_background_image=True, has_extended_profile=True, default_profile=True, default_profile_image=False, following=False, follow_request_sent=False, notifications=False, translator_type='none', withheld_in_countries=[]), user=User(_api=<tweepy.api.API object at 0x0000024FA9D90400>, _json={'id': 1296831518900453378, 'id_str': '1296831518900453378', 'name': 'Mahanthesh M R', 'screen_name': 'MahantheshMR1', 'location': '', 'description': '', 'url': None, 'entities': {'description': {'urls': []}}, 'protected': False, 'followers_count': 2, 'friends_count': 15, 'listed_count': 0, 'created_at': 'Fri Aug 21 15:29:14 +0000 2020', 'favourites_count': 2218, 'utc_offset': None, 'time_zone': None, 'geo_enabled': False, 'verified': False, 'statuses_count': 44, 'lang': None, 'contributors_enabled': False, 'is_translator': False, 'is_translation_enabled': False, 'profile_background_color': 'F5F8FA', 'profile_background_image_url': None, 'profile_background_image_url_https': None, 'profile_background_tile': False, 'profile_image_url': 'http://pbs.twimg.com/profile_images/1296831998091132928/8JAF2ncw_normal.jpg', 'profile_image_url_https': 'https://pbs.twimg.com/profile_images/1296831998091132928/8JAF2ncw_normal.jpg', 'profile_link_color': '1DA1F2', 'profile_sidebar_border_color': 'C0DEED', 'profile_sidebar_fill_color': 'DDEEF6', 'profile_text_color': '333333', 'profile_use_background_image': True, 'has_extended_profile': True, 'default_profile': True, 'default_profile_image': False, 'following': False, 'follow_request_sent': False, 'notifications': False, 'translator_type': 'none', 'withheld_in_countries': []}, id=1296831518900453378, id_str='1296831518900453378', name='Mahanthesh M R', screen_name='MahantheshMR1', location='', description='', url=None, entities={'description': {'urls': []}}, protected=False, followers_count=2, friends_count=15, listed_count=0, created_at=datetime.datetime(2020, 8, 21, 15, 29, 14), favourites_count=2218, utc_offset=None, time_zone=None, geo_enabled=False, verified=False, statuses_count=44, lang=None, contributors_enabled=False, is_translator=False, is_translation_enabled=False, profile_background_color='F5F8FA', profile_background_image_url=None, profile_background_image_url_https=None, profile_background_tile=False, profile_image_url='http://pbs.twimg.com/profile_images/1296831998091132928/8JAF2ncw_normal.jpg', profile_image_url_https='https://pbs.twimg.com/profile_images/1296831998091132928/8JAF2ncw_normal.jpg', profile_link_color='1DA1F2', profile_sidebar_border_color='C0DEED', profile_sidebar_fill_color='DDEEF6', profile_text_color='333333', profile_use_background_image=True, has_extended_profile=True, default_profile=True, default_profile_image=False, following=False, follow_request_sent=False, notifications=False, translator_type='none', withheld_in_countries=[]), geo=None, coordinates=None, place=None, contributors=None, is_quote_status=False, retweet_count=0, favorite_count=0, favorited=False, retweeted=False, lang='en') \n",
      "\n",
      ".....................................\n",
      "\n",
      "Status(_api=<tweepy.api.API object at 0x0000024FA9D90400>, _json={'created_at': 'Mon Jun 28 07:26:55 +0000 2021', 'id': 1409412982858076161, 'id_str': '1409412982858076161', 'full_text': '@DarkKnightRised Everything except RCB winning IPL ,,🤣🤣', 'truncated': False, 'display_text_range': [17, 55], 'entities': {'hashtags': [], 'symbols': [], 'user_mentions': [{'screen_name': 'DarkKnightRised', 'name': 'DK 🐴', 'id': 1270031419180560385, 'id_str': '1270031419180560385', 'indices': [0, 16]}], 'urls': []}, 'metadata': {'iso_language_code': 'en', 'result_type': 'recent'}, 'source': '<a href=\"http://twitter.com/download/android\" rel=\"nofollow\">Twitter for Android</a>', 'in_reply_to_status_id': 1409193960455557121, 'in_reply_to_status_id_str': '1409193960455557121', 'in_reply_to_user_id': 1270031419180560385, 'in_reply_to_user_id_str': '1270031419180560385', 'in_reply_to_screen_name': 'DarkKnightRised', 'user': {'id': 867064791331815424, 'id_str': '867064791331815424', 'name': 'AmanAnil GUPTA 07🇮🇳', 'screen_name': 'AmanAnil_07', 'location': 'IIT Madras, Chennai ', 'description': 'Learner', 'url': 'https://t.co/ats2J2iHDJ', 'entities': {'url': {'urls': [{'url': 'https://t.co/ats2J2iHDJ', 'expanded_url': 'https://www.quora.com/profile/Aman-Gupta-1887?share=968215d3&srid=5OxSY', 'display_url': 'quora.com/profile/Aman-G…', 'indices': [0, 23]}]}, 'description': {'urls': []}}, 'protected': False, 'followers_count': 156, 'friends_count': 146, 'listed_count': 0, 'created_at': 'Tue May 23 17:08:50 +0000 2017', 'favourites_count': 64466, 'utc_offset': None, 'time_zone': None, 'geo_enabled': True, 'verified': False, 'statuses_count': 48848, 'lang': None, 'contributors_enabled': False, 'is_translator': False, 'is_translation_enabled': False, 'profile_background_color': 'F5F8FA', 'profile_background_image_url': None, 'profile_background_image_url_https': None, 'profile_background_tile': False, 'profile_image_url': 'http://pbs.twimg.com/profile_images/1389306031461728256/NQaDaOKa_normal.jpg', 'profile_image_url_https': 'https://pbs.twimg.com/profile_images/1389306031461728256/NQaDaOKa_normal.jpg', 'profile_banner_url': 'https://pbs.twimg.com/profile_banners/867064791331815424/1613321935', 'profile_link_color': '1DA1F2', 'profile_sidebar_border_color': 'C0DEED', 'profile_sidebar_fill_color': 'DDEEF6', 'profile_text_color': '333333', 'profile_use_background_image': True, 'has_extended_profile': True, 'default_profile': True, 'default_profile_image': False, 'following': False, 'follow_request_sent': False, 'notifications': False, 'translator_type': 'none', 'withheld_in_countries': []}, 'geo': None, 'coordinates': None, 'place': None, 'contributors': None, 'is_quote_status': False, 'retweet_count': 0, 'favorite_count': 0, 'favorited': False, 'retweeted': False, 'lang': 'en'}, created_at=datetime.datetime(2021, 6, 28, 7, 26, 55), id=1409412982858076161, id_str='1409412982858076161', full_text='@DarkKnightRised Everything except RCB winning IPL ,,🤣🤣', truncated=False, display_text_range=[17, 55], entities={'hashtags': [], 'symbols': [], 'user_mentions': [{'screen_name': 'DarkKnightRised', 'name': 'DK 🐴', 'id': 1270031419180560385, 'id_str': '1270031419180560385', 'indices': [0, 16]}], 'urls': []}, metadata={'iso_language_code': 'en', 'result_type': 'recent'}, source='Twitter for Android', source_url='http://twitter.com/download/android', in_reply_to_status_id=1409193960455557121, in_reply_to_status_id_str='1409193960455557121', in_reply_to_user_id=1270031419180560385, in_reply_to_user_id_str='1270031419180560385', in_reply_to_screen_name='DarkKnightRised', author=User(_api=<tweepy.api.API object at 0x0000024FA9D90400>, _json={'id': 867064791331815424, 'id_str': '867064791331815424', 'name': 'AmanAnil GUPTA 07🇮🇳', 'screen_name': 'AmanAnil_07', 'location': 'IIT Madras, Chennai ', 'description': 'Learner', 'url': 'https://t.co/ats2J2iHDJ', 'entities': {'url': {'urls': [{'url': 'https://t.co/ats2J2iHDJ', 'expanded_url': 'https://www.quora.com/profile/Aman-Gupta-1887?share=968215d3&srid=5OxSY', 'display_url': 'quora.com/profile/Aman-G…', 'indices': [0, 23]}]}, 'description': {'urls': []}}, 'protected': False, 'followers_count': 156, 'friends_count': 146, 'listed_count': 0, 'created_at': 'Tue May 23 17:08:50 +0000 2017', 'favourites_count': 64466, 'utc_offset': None, 'time_zone': None, 'geo_enabled': True, 'verified': False, 'statuses_count': 48848, 'lang': None, 'contributors_enabled': False, 'is_translator': False, 'is_translation_enabled': False, 'profile_background_color': 'F5F8FA', 'profile_background_image_url': None, 'profile_background_image_url_https': None, 'profile_background_tile': False, 'profile_image_url': 'http://pbs.twimg.com/profile_images/1389306031461728256/NQaDaOKa_normal.jpg', 'profile_image_url_https': 'https://pbs.twimg.com/profile_images/1389306031461728256/NQaDaOKa_normal.jpg', 'profile_banner_url': 'https://pbs.twimg.com/profile_banners/867064791331815424/1613321935', 'profile_link_color': '1DA1F2', 'profile_sidebar_border_color': 'C0DEED', 'profile_sidebar_fill_color': 'DDEEF6', 'profile_text_color': '333333', 'profile_use_background_image': True, 'has_extended_profile': True, 'default_profile': True, 'default_profile_image': False, 'following': False, 'follow_request_sent': False, 'notifications': False, 'translator_type': 'none', 'withheld_in_countries': []}, id=867064791331815424, id_str='867064791331815424', name='AmanAnil GUPTA 07🇮🇳', screen_name='AmanAnil_07', location='IIT Madras, Chennai ', description='Learner', url='https://t.co/ats2J2iHDJ', entities={'url': {'urls': [{'url': 'https://t.co/ats2J2iHDJ', 'expanded_url': 'https://www.quora.com/profile/Aman-Gupta-1887?share=968215d3&srid=5OxSY', 'display_url': 'quora.com/profile/Aman-G…', 'indices': [0, 23]}]}, 'description': {'urls': []}}, protected=False, followers_count=156, friends_count=146, listed_count=0, created_at=datetime.datetime(2017, 5, 23, 17, 8, 50), favourites_count=64466, utc_offset=None, time_zone=None, geo_enabled=True, verified=False, statuses_count=48848, lang=None, contributors_enabled=False, is_translator=False, is_translation_enabled=False, profile_background_color='F5F8FA', profile_background_image_url=None, profile_background_image_url_https=None, profile_background_tile=False, profile_image_url='http://pbs.twimg.com/profile_images/1389306031461728256/NQaDaOKa_normal.jpg', profile_image_url_https='https://pbs.twimg.com/profile_images/1389306031461728256/NQaDaOKa_normal.jpg', profile_banner_url='https://pbs.twimg.com/profile_banners/867064791331815424/1613321935', profile_link_color='1DA1F2', profile_sidebar_border_color='C0DEED', profile_sidebar_fill_color='DDEEF6', profile_text_color='333333', profile_use_background_image=True, has_extended_profile=True, default_profile=True, default_profile_image=False, following=False, follow_request_sent=False, notifications=False, translator_type='none', withheld_in_countries=[]), user=User(_api=<tweepy.api.API object at 0x0000024FA9D90400>, _json={'id': 867064791331815424, 'id_str': '867064791331815424', 'name': 'AmanAnil GUPTA 07🇮🇳', 'screen_name': 'AmanAnil_07', 'location': 'IIT Madras, Chennai ', 'description': 'Learner', 'url': 'https://t.co/ats2J2iHDJ', 'entities': {'url': {'urls': [{'url': 'https://t.co/ats2J2iHDJ', 'expanded_url': 'https://www.quora.com/profile/Aman-Gupta-1887?share=968215d3&srid=5OxSY', 'display_url': 'quora.com/profile/Aman-G…', 'indices': [0, 23]}]}, 'description': {'urls': []}}, 'protected': False, 'followers_count': 156, 'friends_count': 146, 'listed_count': 0, 'created_at': 'Tue May 23 17:08:50 +0000 2017', 'favourites_count': 64466, 'utc_offset': None, 'time_zone': None, 'geo_enabled': True, 'verified': False, 'statuses_count': 48848, 'lang': None, 'contributors_enabled': False, 'is_translator': False, 'is_translation_enabled': False, 'profile_background_color': 'F5F8FA', 'profile_background_image_url': None, 'profile_background_image_url_https': None, 'profile_background_tile': False, 'profile_image_url': 'http://pbs.twimg.com/profile_images/1389306031461728256/NQaDaOKa_normal.jpg', 'profile_image_url_https': 'https://pbs.twimg.com/profile_images/1389306031461728256/NQaDaOKa_normal.jpg', 'profile_banner_url': 'https://pbs.twimg.com/profile_banners/867064791331815424/1613321935', 'profile_link_color': '1DA1F2', 'profile_sidebar_border_color': 'C0DEED', 'profile_sidebar_fill_color': 'DDEEF6', 'profile_text_color': '333333', 'profile_use_background_image': True, 'has_extended_profile': True, 'default_profile': True, 'default_profile_image': False, 'following': False, 'follow_request_sent': False, 'notifications': False, 'translator_type': 'none', 'withheld_in_countries': []}, id=867064791331815424, id_str='867064791331815424', name='AmanAnil GUPTA 07🇮🇳', screen_name='AmanAnil_07', location='IIT Madras, Chennai ', description='Learner', url='https://t.co/ats2J2iHDJ', entities={'url': {'urls': [{'url': 'https://t.co/ats2J2iHDJ', 'expanded_url': 'https://www.quora.com/profile/Aman-Gupta-1887?share=968215d3&srid=5OxSY', 'display_url': 'quora.com/profile/Aman-G…', 'indices': [0, 23]}]}, 'description': {'urls': []}}, protected=False, followers_count=156, friends_count=146, listed_count=0, created_at=datetime.datetime(2017, 5, 23, 17, 8, 50), favourites_count=64466, utc_offset=None, time_zone=None, geo_enabled=True, verified=False, statuses_count=48848, lang=None, contributors_enabled=False, is_translator=False, is_translation_enabled=False, profile_background_color='F5F8FA', profile_background_image_url=None, profile_background_image_url_https=None, profile_background_tile=False, profile_image_url='http://pbs.twimg.com/profile_images/1389306031461728256/NQaDaOKa_normal.jpg', profile_image_url_https='https://pbs.twimg.com/profile_images/1389306031461728256/NQaDaOKa_normal.jpg', profile_banner_url='https://pbs.twimg.com/profile_banners/867064791331815424/1613321935', profile_link_color='1DA1F2', profile_sidebar_border_color='C0DEED', profile_sidebar_fill_color='DDEEF6', profile_text_color='333333', profile_use_background_image=True, has_extended_profile=True, default_profile=True, default_profile_image=False, following=False, follow_request_sent=False, notifications=False, translator_type='none', withheld_in_countries=[]), geo=None, coordinates=None, place=None, contributors=None, is_quote_status=False, retweet_count=0, favorite_count=0, favorited=False, retweeted=False, lang='en') \n",
      "\n",
      ".....................................\n",
      "\n",
      "Status(_api=<tweepy.api.API object at 0x0000024FA9D90400>, _json={'created_at': 'Mon Jun 28 06:38:46 +0000 2021', 'id': 1409400863936765956, 'id_str': '1409400863936765956', 'full_text': \"Indian CT will explode on 4 Events if it happens\\n\\n1. Kohli's 71st\\n\\n2. India Winning ICC Trophy\\n\\n3. RCB Winning IPL\\n\\n4. Rohit Sharma Scoring 1st Overseas Century\\n@sports_tak\\n@deeputalks @vikrantgupta73 @manoj_dimri\", 'truncated': False, 'display_text_range': [0, 213], 'entities': {'hashtags': [], 'symbols': [], 'user_mentions': [{'screen_name': 'sports_tak', 'name': 'Sports Tak', 'id': 893087289575972864, 'id_str': '893087289575972864', 'indices': [161, 172]}, {'screen_name': 'deeputalks', 'name': 'Deepu Narayanan', 'id': 159900630, 'id_str': '159900630', 'indices': [173, 184]}, {'screen_name': 'vikrantgupta73', 'name': 'Vikrant Gupta', 'id': 135110894, 'id_str': '135110894', 'indices': [185, 200]}, {'screen_name': 'manoj_dimri', 'name': 'Manoj Dimri', 'id': 168118040, 'id_str': '168118040', 'indices': [201, 213]}], 'urls': []}, 'metadata': {'iso_language_code': 'en', 'result_type': 'recent'}, 'source': '<a href=\"http://twitter.com/download/android\" rel=\"nofollow\">Twitter for Android</a>', 'in_reply_to_status_id': None, 'in_reply_to_status_id_str': None, 'in_reply_to_user_id': None, 'in_reply_to_user_id_str': None, 'in_reply_to_screen_name': None, 'user': {'id': 911799811459883008, 'id_str': '911799811459883008', 'name': 'Sujeet Tiwari', 'screen_name': 'sujeet5100', 'location': 'Sultanpur, India', 'description': 'Hospital business ,\\npolitical views centre wing,  neither Left wing nor Right wing !', 'url': None, 'entities': {'description': {'urls': []}}, 'protected': False, 'followers_count': 64, 'friends_count': 536, 'listed_count': 0, 'created_at': 'Sun Sep 24 03:49:50 +0000 2017', 'favourites_count': 715, 'utc_offset': None, 'time_zone': None, 'geo_enabled': True, 'verified': False, 'statuses_count': 600, 'lang': None, 'contributors_enabled': False, 'is_translator': False, 'is_translation_enabled': False, 'profile_background_color': 'F5F8FA', 'profile_background_image_url': None, 'profile_background_image_url_https': None, 'profile_background_tile': False, 'profile_image_url': 'http://pbs.twimg.com/profile_images/1226516545980919809/082BlZEV_normal.jpg', 'profile_image_url_https': 'https://pbs.twimg.com/profile_images/1226516545980919809/082BlZEV_normal.jpg', 'profile_banner_url': 'https://pbs.twimg.com/profile_banners/911799811459883008/1532365396', 'profile_link_color': '1DA1F2', 'profile_sidebar_border_color': 'C0DEED', 'profile_sidebar_fill_color': 'DDEEF6', 'profile_text_color': '333333', 'profile_use_background_image': True, 'has_extended_profile': True, 'default_profile': True, 'default_profile_image': False, 'following': False, 'follow_request_sent': False, 'notifications': False, 'translator_type': 'none', 'withheld_in_countries': []}, 'geo': None, 'coordinates': None, 'place': None, 'contributors': None, 'is_quote_status': False, 'retweet_count': 0, 'favorite_count': 2, 'favorited': False, 'retweeted': False, 'lang': 'en'}, created_at=datetime.datetime(2021, 6, 28, 6, 38, 46), id=1409400863936765956, id_str='1409400863936765956', full_text=\"Indian CT will explode on 4 Events if it happens\\n\\n1. Kohli's 71st\\n\\n2. India Winning ICC Trophy\\n\\n3. RCB Winning IPL\\n\\n4. Rohit Sharma Scoring 1st Overseas Century\\n@sports_tak\\n@deeputalks @vikrantgupta73 @manoj_dimri\", truncated=False, display_text_range=[0, 213], entities={'hashtags': [], 'symbols': [], 'user_mentions': [{'screen_name': 'sports_tak', 'name': 'Sports Tak', 'id': 893087289575972864, 'id_str': '893087289575972864', 'indices': [161, 172]}, {'screen_name': 'deeputalks', 'name': 'Deepu Narayanan', 'id': 159900630, 'id_str': '159900630', 'indices': [173, 184]}, {'screen_name': 'vikrantgupta73', 'name': 'Vikrant Gupta', 'id': 135110894, 'id_str': '135110894', 'indices': [185, 200]}, {'screen_name': 'manoj_dimri', 'name': 'Manoj Dimri', 'id': 168118040, 'id_str': '168118040', 'indices': [201, 213]}], 'urls': []}, metadata={'iso_language_code': 'en', 'result_type': 'recent'}, source='Twitter for Android', source_url='http://twitter.com/download/android', in_reply_to_status_id=None, in_reply_to_status_id_str=None, in_reply_to_user_id=None, in_reply_to_user_id_str=None, in_reply_to_screen_name=None, author=User(_api=<tweepy.api.API object at 0x0000024FA9D90400>, _json={'id': 911799811459883008, 'id_str': '911799811459883008', 'name': 'Sujeet Tiwari', 'screen_name': 'sujeet5100', 'location': 'Sultanpur, India', 'description': 'Hospital business ,\\npolitical views centre wing,  neither Left wing nor Right wing !', 'url': None, 'entities': {'description': {'urls': []}}, 'protected': False, 'followers_count': 64, 'friends_count': 536, 'listed_count': 0, 'created_at': 'Sun Sep 24 03:49:50 +0000 2017', 'favourites_count': 715, 'utc_offset': None, 'time_zone': None, 'geo_enabled': True, 'verified': False, 'statuses_count': 600, 'lang': None, 'contributors_enabled': False, 'is_translator': False, 'is_translation_enabled': False, 'profile_background_color': 'F5F8FA', 'profile_background_image_url': None, 'profile_background_image_url_https': None, 'profile_background_tile': False, 'profile_image_url': 'http://pbs.twimg.com/profile_images/1226516545980919809/082BlZEV_normal.jpg', 'profile_image_url_https': 'https://pbs.twimg.com/profile_images/1226516545980919809/082BlZEV_normal.jpg', 'profile_banner_url': 'https://pbs.twimg.com/profile_banners/911799811459883008/1532365396', 'profile_link_color': '1DA1F2', 'profile_sidebar_border_color': 'C0DEED', 'profile_sidebar_fill_color': 'DDEEF6', 'profile_text_color': '333333', 'profile_use_background_image': True, 'has_extended_profile': True, 'default_profile': True, 'default_profile_image': False, 'following': False, 'follow_request_sent': False, 'notifications': False, 'translator_type': 'none', 'withheld_in_countries': []}, id=911799811459883008, id_str='911799811459883008', name='Sujeet Tiwari', screen_name='sujeet5100', location='Sultanpur, India', description='Hospital business ,\\npolitical views centre wing,  neither Left wing nor Right wing !', url=None, entities={'description': {'urls': []}}, protected=False, followers_count=64, friends_count=536, listed_count=0, created_at=datetime.datetime(2017, 9, 24, 3, 49, 50), favourites_count=715, utc_offset=None, time_zone=None, geo_enabled=True, verified=False, statuses_count=600, lang=None, contributors_enabled=False, is_translator=False, is_translation_enabled=False, profile_background_color='F5F8FA', profile_background_image_url=None, profile_background_image_url_https=None, profile_background_tile=False, profile_image_url='http://pbs.twimg.com/profile_images/1226516545980919809/082BlZEV_normal.jpg', profile_image_url_https='https://pbs.twimg.com/profile_images/1226516545980919809/082BlZEV_normal.jpg', profile_banner_url='https://pbs.twimg.com/profile_banners/911799811459883008/1532365396', profile_link_color='1DA1F2', profile_sidebar_border_color='C0DEED', profile_sidebar_fill_color='DDEEF6', profile_text_color='333333', profile_use_background_image=True, has_extended_profile=True, default_profile=True, default_profile_image=False, following=False, follow_request_sent=False, notifications=False, translator_type='none', withheld_in_countries=[]), user=User(_api=<tweepy.api.API object at 0x0000024FA9D90400>, _json={'id': 911799811459883008, 'id_str': '911799811459883008', 'name': 'Sujeet Tiwari', 'screen_name': 'sujeet5100', 'location': 'Sultanpur, India', 'description': 'Hospital business ,\\npolitical views centre wing,  neither Left wing nor Right wing !', 'url': None, 'entities': {'description': {'urls': []}}, 'protected': False, 'followers_count': 64, 'friends_count': 536, 'listed_count': 0, 'created_at': 'Sun Sep 24 03:49:50 +0000 2017', 'favourites_count': 715, 'utc_offset': None, 'time_zone': None, 'geo_enabled': True, 'verified': False, 'statuses_count': 600, 'lang': None, 'contributors_enabled': False, 'is_translator': False, 'is_translation_enabled': False, 'profile_background_color': 'F5F8FA', 'profile_background_image_url': None, 'profile_background_image_url_https': None, 'profile_background_tile': False, 'profile_image_url': 'http://pbs.twimg.com/profile_images/1226516545980919809/082BlZEV_normal.jpg', 'profile_image_url_https': 'https://pbs.twimg.com/profile_images/1226516545980919809/082BlZEV_normal.jpg', 'profile_banner_url': 'https://pbs.twimg.com/profile_banners/911799811459883008/1532365396', 'profile_link_color': '1DA1F2', 'profile_sidebar_border_color': 'C0DEED', 'profile_sidebar_fill_color': 'DDEEF6', 'profile_text_color': '333333', 'profile_use_background_image': True, 'has_extended_profile': True, 'default_profile': True, 'default_profile_image': False, 'following': False, 'follow_request_sent': False, 'notifications': False, 'translator_type': 'none', 'withheld_in_countries': []}, id=911799811459883008, id_str='911799811459883008', name='Sujeet Tiwari', screen_name='sujeet5100', location='Sultanpur, India', description='Hospital business ,\\npolitical views centre wing,  neither Left wing nor Right wing !', url=None, entities={'description': {'urls': []}}, protected=False, followers_count=64, friends_count=536, listed_count=0, created_at=datetime.datetime(2017, 9, 24, 3, 49, 50), favourites_count=715, utc_offset=None, time_zone=None, geo_enabled=True, verified=False, statuses_count=600, lang=None, contributors_enabled=False, is_translator=False, is_translation_enabled=False, profile_background_color='F5F8FA', profile_background_image_url=None, profile_background_image_url_https=None, profile_background_tile=False, profile_image_url='http://pbs.twimg.com/profile_images/1226516545980919809/082BlZEV_normal.jpg', profile_image_url_https='https://pbs.twimg.com/profile_images/1226516545980919809/082BlZEV_normal.jpg', profile_banner_url='https://pbs.twimg.com/profile_banners/911799811459883008/1532365396', profile_link_color='1DA1F2', profile_sidebar_border_color='C0DEED', profile_sidebar_fill_color='DDEEF6', profile_text_color='333333', profile_use_background_image=True, has_extended_profile=True, default_profile=True, default_profile_image=False, following=False, follow_request_sent=False, notifications=False, translator_type='none', withheld_in_countries=[]), geo=None, coordinates=None, place=None, contributors=None, is_quote_status=False, retweet_count=0, favorite_count=2, favorited=False, retweeted=False, lang='en') \n",
      "\n",
      ".....................................\n",
      "\n",
      "Status(_api=<tweepy.api.API object at 0x0000024FA9D90400>, _json={'created_at': 'Mon Jun 28 05:09:36 +0000 2021', 'id': 1409378427501641728, 'id_str': '1409378427501641728', 'full_text': '@DarkKnightRised How the fuck does rcb winning or not winning ipl effects indian team', 'truncated': False, 'display_text_range': [17, 85], 'entities': {'hashtags': [], 'symbols': [], 'user_mentions': [{'screen_name': 'DarkKnightRised', 'name': 'DK 🐴', 'id': 1270031419180560385, 'id_str': '1270031419180560385', 'indices': [0, 16]}], 'urls': []}, 'metadata': {'iso_language_code': 'en', 'result_type': 'recent'}, 'source': '<a href=\"http://twitter.com/download/android\" rel=\"nofollow\">Twitter for Android</a>', 'in_reply_to_status_id': 1409193960455557121, 'in_reply_to_status_id_str': '1409193960455557121', 'in_reply_to_user_id': 1270031419180560385, 'in_reply_to_user_id_str': '1270031419180560385', 'in_reply_to_screen_name': 'DarkKnightRised', 'user': {'id': 906783586422071296, 'id_str': '906783586422071296', 'name': 'Rajveer Wariah', 'screen_name': 'RajveerWariah', 'location': '', 'description': '', 'url': None, 'entities': {'description': {'urls': []}}, 'protected': False, 'followers_count': 18, 'friends_count': 76, 'listed_count': 0, 'created_at': 'Sun Sep 10 07:37:08 +0000 2017', 'favourites_count': 5870, 'utc_offset': None, 'time_zone': None, 'geo_enabled': False, 'verified': False, 'statuses_count': 1371, 'lang': None, 'contributors_enabled': False, 'is_translator': False, 'is_translation_enabled': False, 'profile_background_color': 'F5F8FA', 'profile_background_image_url': None, 'profile_background_image_url_https': None, 'profile_background_tile': False, 'profile_image_url': 'http://pbs.twimg.com/profile_images/1325370052946796544/Ii71VDk7_normal.jpg', 'profile_image_url_https': 'https://pbs.twimg.com/profile_images/1325370052946796544/Ii71VDk7_normal.jpg', 'profile_link_color': '1DA1F2', 'profile_sidebar_border_color': 'C0DEED', 'profile_sidebar_fill_color': 'DDEEF6', 'profile_text_color': '333333', 'profile_use_background_image': True, 'has_extended_profile': True, 'default_profile': True, 'default_profile_image': False, 'following': False, 'follow_request_sent': False, 'notifications': False, 'translator_type': 'none', 'withheld_in_countries': []}, 'geo': None, 'coordinates': None, 'place': None, 'contributors': None, 'is_quote_status': False, 'retweet_count': 0, 'favorite_count': 0, 'favorited': False, 'retweeted': False, 'lang': 'en'}, created_at=datetime.datetime(2021, 6, 28, 5, 9, 36), id=1409378427501641728, id_str='1409378427501641728', full_text='@DarkKnightRised How the fuck does rcb winning or not winning ipl effects indian team', truncated=False, display_text_range=[17, 85], entities={'hashtags': [], 'symbols': [], 'user_mentions': [{'screen_name': 'DarkKnightRised', 'name': 'DK 🐴', 'id': 1270031419180560385, 'id_str': '1270031419180560385', 'indices': [0, 16]}], 'urls': []}, metadata={'iso_language_code': 'en', 'result_type': 'recent'}, source='Twitter for Android', source_url='http://twitter.com/download/android', in_reply_to_status_id=1409193960455557121, in_reply_to_status_id_str='1409193960455557121', in_reply_to_user_id=1270031419180560385, in_reply_to_user_id_str='1270031419180560385', in_reply_to_screen_name='DarkKnightRised', author=User(_api=<tweepy.api.API object at 0x0000024FA9D90400>, _json={'id': 906783586422071296, 'id_str': '906783586422071296', 'name': 'Rajveer Wariah', 'screen_name': 'RajveerWariah', 'location': '', 'description': '', 'url': None, 'entities': {'description': {'urls': []}}, 'protected': False, 'followers_count': 18, 'friends_count': 76, 'listed_count': 0, 'created_at': 'Sun Sep 10 07:37:08 +0000 2017', 'favourites_count': 5870, 'utc_offset': None, 'time_zone': None, 'geo_enabled': False, 'verified': False, 'statuses_count': 1371, 'lang': None, 'contributors_enabled': False, 'is_translator': False, 'is_translation_enabled': False, 'profile_background_color': 'F5F8FA', 'profile_background_image_url': None, 'profile_background_image_url_https': None, 'profile_background_tile': False, 'profile_image_url': 'http://pbs.twimg.com/profile_images/1325370052946796544/Ii71VDk7_normal.jpg', 'profile_image_url_https': 'https://pbs.twimg.com/profile_images/1325370052946796544/Ii71VDk7_normal.jpg', 'profile_link_color': '1DA1F2', 'profile_sidebar_border_color': 'C0DEED', 'profile_sidebar_fill_color': 'DDEEF6', 'profile_text_color': '333333', 'profile_use_background_image': True, 'has_extended_profile': True, 'default_profile': True, 'default_profile_image': False, 'following': False, 'follow_request_sent': False, 'notifications': False, 'translator_type': 'none', 'withheld_in_countries': []}, id=906783586422071296, id_str='906783586422071296', name='Rajveer Wariah', screen_name='RajveerWariah', location='', description='', url=None, entities={'description': {'urls': []}}, protected=False, followers_count=18, friends_count=76, listed_count=0, created_at=datetime.datetime(2017, 9, 10, 7, 37, 8), favourites_count=5870, utc_offset=None, time_zone=None, geo_enabled=False, verified=False, statuses_count=1371, lang=None, contributors_enabled=False, is_translator=False, is_translation_enabled=False, profile_background_color='F5F8FA', profile_background_image_url=None, profile_background_image_url_https=None, profile_background_tile=False, profile_image_url='http://pbs.twimg.com/profile_images/1325370052946796544/Ii71VDk7_normal.jpg', profile_image_url_https='https://pbs.twimg.com/profile_images/1325370052946796544/Ii71VDk7_normal.jpg', profile_link_color='1DA1F2', profile_sidebar_border_color='C0DEED', profile_sidebar_fill_color='DDEEF6', profile_text_color='333333', profile_use_background_image=True, has_extended_profile=True, default_profile=True, default_profile_image=False, following=False, follow_request_sent=False, notifications=False, translator_type='none', withheld_in_countries=[]), user=User(_api=<tweepy.api.API object at 0x0000024FA9D90400>, _json={'id': 906783586422071296, 'id_str': '906783586422071296', 'name': 'Rajveer Wariah', 'screen_name': 'RajveerWariah', 'location': '', 'description': '', 'url': None, 'entities': {'description': {'urls': []}}, 'protected': False, 'followers_count': 18, 'friends_count': 76, 'listed_count': 0, 'created_at': 'Sun Sep 10 07:37:08 +0000 2017', 'favourites_count': 5870, 'utc_offset': None, 'time_zone': None, 'geo_enabled': False, 'verified': False, 'statuses_count': 1371, 'lang': None, 'contributors_enabled': False, 'is_translator': False, 'is_translation_enabled': False, 'profile_background_color': 'F5F8FA', 'profile_background_image_url': None, 'profile_background_image_url_https': None, 'profile_background_tile': False, 'profile_image_url': 'http://pbs.twimg.com/profile_images/1325370052946796544/Ii71VDk7_normal.jpg', 'profile_image_url_https': 'https://pbs.twimg.com/profile_images/1325370052946796544/Ii71VDk7_normal.jpg', 'profile_link_color': '1DA1F2', 'profile_sidebar_border_color': 'C0DEED', 'profile_sidebar_fill_color': 'DDEEF6', 'profile_text_color': '333333', 'profile_use_background_image': True, 'has_extended_profile': True, 'default_profile': True, 'default_profile_image': False, 'following': False, 'follow_request_sent': False, 'notifications': False, 'translator_type': 'none', 'withheld_in_countries': []}, id=906783586422071296, id_str='906783586422071296', name='Rajveer Wariah', screen_name='RajveerWariah', location='', description='', url=None, entities={'description': {'urls': []}}, protected=False, followers_count=18, friends_count=76, listed_count=0, created_at=datetime.datetime(2017, 9, 10, 7, 37, 8), favourites_count=5870, utc_offset=None, time_zone=None, geo_enabled=False, verified=False, statuses_count=1371, lang=None, contributors_enabled=False, is_translator=False, is_translation_enabled=False, profile_background_color='F5F8FA', profile_background_image_url=None, profile_background_image_url_https=None, profile_background_tile=False, profile_image_url='http://pbs.twimg.com/profile_images/1325370052946796544/Ii71VDk7_normal.jpg', profile_image_url_https='https://pbs.twimg.com/profile_images/1325370052946796544/Ii71VDk7_normal.jpg', profile_link_color='1DA1F2', profile_sidebar_border_color='C0DEED', profile_sidebar_fill_color='DDEEF6', profile_text_color='333333', profile_use_background_image=True, has_extended_profile=True, default_profile=True, default_profile_image=False, following=False, follow_request_sent=False, notifications=False, translator_type='none', withheld_in_countries=[]), geo=None, coordinates=None, place=None, contributors=None, is_quote_status=False, retweet_count=0, favorite_count=0, favorited=False, retweeted=False, lang='en') \n",
      "\n",
      ".....................................\n",
      "\n"
     ]
    }
   ],
   "source": [
    "Tweets = api.search( query , count=10 , lang='en' , exclude='retweets' , tweet_mode='extended' )\n",
    "# tweet_mode='extended'\n",
    "# tweet_mode='compat'\n",
    "\n",
    "for tweet in Tweets:\n",
    "    print(tweet,\"\\n\")\n",
    "    print(\".....................................\\n\")"
   ]
  },
  {
   "cell_type": "markdown",
   "metadata": {},
   "source": [
    "Get the tweets and some Attributes"
   ]
  },
  {
   "cell_type": "code",
   "execution_count": 9,
   "metadata": {},
   "outputs": [
    {
     "name": "stdout",
     "output_type": "stream",
     "text": [
      "Empty DataFrame\n",
      "Columns: [Tweets, User, User_statuses_count, user_followers, User_location, User_verified, fav_count, rt_count, tweet_date]\n",
      "Index: []\n"
     ]
    }
   ],
   "source": [
    "df = pd.DataFrame(columns = ['Tweets' , 'User' , 'User_statuses_count' , \n",
    "                            'user_followers' , 'User_location' , 'User_verified' ,\n",
    "                            'fav_count' , 'rt_count' , 'tweet_date'] )\n",
    "print(df)\n",
    "# print(df.shape)"
   ]
  },
  {
   "cell_type": "code",
   "execution_count": 10,
   "metadata": {},
   "outputs": [],
   "source": [
    "def stream(data, file_name):\n",
    "    i = 0\n",
    "    for tweet in tweepy.Cursor(api.search, q=data, count=100, lang='en').items():\n",
    "        print(i, end='\\r')\n",
    "        df.loc[i, 'Tweets'] = tweet.text\n",
    "        df.loc[i, 'User'] = tweet.user.name\n",
    "        df.loc[i, 'User_statuses_count'] = tweet.user.statuses_count\n",
    "        df.loc[i, 'user_followers'] = tweet.user.followers_count\n",
    "        df.loc[i, 'User_location'] = tweet.user.location\n",
    "        df.loc[i, 'User_verified'] = tweet.user.verified\n",
    "        df.loc[i, 'fav_count'] = tweet.favorite_count\n",
    "        df.loc[i, 'rt_count'] = tweet.retweet_count\n",
    "        df.loc[i, 'tweet_date'] = tweet.created_at\n",
    "        df.to_excel('{}.xlsx'.format(file_name))\n",
    "        i = i+1\n",
    "        if i == 1000:\n",
    "            break\n",
    "        else:\n",
    "            pass"
   ]
  },
  {
   "cell_type": "code",
   "execution_count": 11,
   "metadata": {},
   "outputs": [
    {
     "name": "stdout",
     "output_type": "stream",
     "text": [
      "222\r"
     ]
    }
   ],
   "source": [
    "stream(data=[\"RCB winning IPL\"] , file_name='my_tweets')"
   ]
  },
  {
   "cell_type": "code",
   "execution_count": 12,
   "metadata": {},
   "outputs": [
    {
     "data": {
      "text/html": [
       "<div>\n",
       "<style scoped>\n",
       "    .dataframe tbody tr th:only-of-type {\n",
       "        vertical-align: middle;\n",
       "    }\n",
       "\n",
       "    .dataframe tbody tr th {\n",
       "        vertical-align: top;\n",
       "    }\n",
       "\n",
       "    .dataframe thead th {\n",
       "        text-align: right;\n",
       "    }\n",
       "</style>\n",
       "<table border=\"1\" class=\"dataframe\">\n",
       "  <thead>\n",
       "    <tr style=\"text-align: right;\">\n",
       "      <th></th>\n",
       "      <th>Tweets</th>\n",
       "      <th>User</th>\n",
       "      <th>User_statuses_count</th>\n",
       "      <th>user_followers</th>\n",
       "      <th>User_location</th>\n",
       "      <th>User_verified</th>\n",
       "      <th>fav_count</th>\n",
       "      <th>rt_count</th>\n",
       "      <th>tweet_date</th>\n",
       "    </tr>\n",
       "  </thead>\n",
       "  <tbody>\n",
       "    <tr>\n",
       "      <th>0</th>\n",
       "      <td>@bunnyreddyyy Kane supports RCB and he is part...</td>\n",
       "      <td>👑 No.1 Arjun Tendulkar FAN BOY👑</td>\n",
       "      <td>8972</td>\n",
       "      <td>367</td>\n",
       "      <td></td>\n",
       "      <td>False</td>\n",
       "      <td>0</td>\n",
       "      <td>0</td>\n",
       "      <td>2021-06-29 18:06:27</td>\n",
       "    </tr>\n",
       "    <tr>\n",
       "      <th>1</th>\n",
       "      <td>Gabba win \\nVillareal winning UEL\\nInter winni...</td>\n",
       "      <td>Adhithya Srinivasan</td>\n",
       "      <td>8994</td>\n",
       "      <td>308</td>\n",
       "      <td>India</td>\n",
       "      <td>False</td>\n",
       "      <td>0</td>\n",
       "      <td>0</td>\n",
       "      <td>2021-06-29 18:02:48</td>\n",
       "    </tr>\n",
       "    <tr>\n",
       "      <th>2</th>\n",
       "      <td>RT @MsdianTweets: India won 3 ICC troohies and...</td>\n",
       "      <td>💥Wowkool😎</td>\n",
       "      <td>2314</td>\n",
       "      <td>235</td>\n",
       "      <td>Kerala, India</td>\n",
       "      <td>False</td>\n",
       "      <td>0</td>\n",
       "      <td>4</td>\n",
       "      <td>2021-06-29 11:18:04</td>\n",
       "    </tr>\n",
       "    <tr>\n",
       "      <th>3</th>\n",
       "      <td>RT @MsdianTweets: India won 3 ICC troohies and...</td>\n",
       "      <td>Siva Swarna</td>\n",
       "      <td>102122</td>\n",
       "      <td>545</td>\n",
       "      <td>Andhra Pradesh, India</td>\n",
       "      <td>False</td>\n",
       "      <td>0</td>\n",
       "      <td>4</td>\n",
       "      <td>2021-06-29 10:52:47</td>\n",
       "    </tr>\n",
       "    <tr>\n",
       "      <th>4</th>\n",
       "      <td>RT @MsdianTweets: India won 3 ICC troohies and...</td>\n",
       "      <td>Rishi</td>\n",
       "      <td>5309</td>\n",
       "      <td>254</td>\n",
       "      <td>Andhra Pradesh, India</td>\n",
       "      <td>False</td>\n",
       "      <td>0</td>\n",
       "      <td>4</td>\n",
       "      <td>2021-06-29 09:29:58</td>\n",
       "    </tr>\n",
       "  </tbody>\n",
       "</table>\n",
       "</div>"
      ],
      "text/plain": [
       "                                              Tweets  \\\n",
       "0  @bunnyreddyyy Kane supports RCB and he is part...   \n",
       "1  Gabba win \\nVillareal winning UEL\\nInter winni...   \n",
       "2  RT @MsdianTweets: India won 3 ICC troohies and...   \n",
       "3  RT @MsdianTweets: India won 3 ICC troohies and...   \n",
       "4  RT @MsdianTweets: India won 3 ICC troohies and...   \n",
       "\n",
       "                              User User_statuses_count user_followers  \\\n",
       "0  👑 No.1 Arjun Tendulkar FAN BOY👑                8972            367   \n",
       "1              Adhithya Srinivasan                8994            308   \n",
       "2                        💥Wowkool😎                2314            235   \n",
       "3                      Siva Swarna              102122            545   \n",
       "4                            Rishi                5309            254   \n",
       "\n",
       "           User_location User_verified fav_count rt_count           tweet_date  \n",
       "0                                False         0        0  2021-06-29 18:06:27  \n",
       "1                  India         False         0        0  2021-06-29 18:02:48  \n",
       "2          Kerala, India         False         0        4  2021-06-29 11:18:04  \n",
       "3  Andhra Pradesh, India         False         0        4  2021-06-29 10:52:47  \n",
       "4  Andhra Pradesh, India         False         0        4  2021-06-29 09:29:58  "
      ]
     },
     "execution_count": 12,
     "metadata": {},
     "output_type": "execute_result"
    }
   ],
   "source": [
    "df.head()"
   ]
  },
  {
   "cell_type": "code",
   "execution_count": 13,
   "metadata": {},
   "outputs": [
    {
     "name": "stdout",
     "output_type": "stream",
     "text": [
      "Collecting textblob\n",
      "  Downloading textblob-0.15.3-py2.py3-none-any.whl (636 kB)\n",
      "Requirement already satisfied: nltk>=3.1 in c:\\users\\asus\\anaconda3\\lib\\site-packages (from textblob) (3.5)\n",
      "Requirement already satisfied: regex in c:\\users\\asus\\anaconda3\\lib\\site-packages (from nltk>=3.1->textblob) (2020.10.15)\n",
      "Requirement already satisfied: tqdm in c:\\users\\asus\\anaconda3\\lib\\site-packages (from nltk>=3.1->textblob) (4.50.2)\n",
      "Requirement already satisfied: click in c:\\users\\asus\\anaconda3\\lib\\site-packages (from nltk>=3.1->textblob) (7.1.2)\n",
      "Requirement already satisfied: joblib in c:\\users\\asus\\anaconda3\\lib\\site-packages (from nltk>=3.1->textblob) (0.17.0)\n",
      "Installing collected packages: textblob\n",
      "Successfully installed textblob-0.15.3\n"
     ]
    }
   ],
   "source": [
    "!pip install textblob"
   ]
  },
  {
   "cell_type": "code",
   "execution_count": 14,
   "metadata": {},
   "outputs": [],
   "source": [
    "from textblob import TextBlob"
   ]
  },
  {
   "cell_type": "code",
   "execution_count": 15,
   "metadata": {},
   "outputs": [],
   "source": [
    "import re\n",
    "def clean_tweet(tweet):\n",
    "    return ' '.join(re.sub('(@[A-Za-z0-9]+)|([^0-9A-Za-z \\t])|(\\w+:\\/\\/\\S+)', ' ', tweet).split())"
   ]
  },
  {
   "cell_type": "code",
   "execution_count": 16,
   "metadata": {},
   "outputs": [],
   "source": [
    "def analyze_sentiment(tweet):\n",
    "    analysis = TextBlob(tweet)\n",
    "    if analysis.sentiment.polarity > 0:\n",
    "        return 'Positive'\n",
    "    elif analysis.sentiment.polarity == 0:\n",
    "        return 'Neutral'\n",
    "    else:\n",
    "        return 'Negative'"
   ]
  },
  {
   "cell_type": "code",
   "execution_count": 17,
   "metadata": {},
   "outputs": [],
   "source": [
    "df['clean_tweet'] = df['Tweets'].apply(lambda x : clean_tweet(x))"
   ]
  },
  {
   "cell_type": "code",
   "execution_count": 18,
   "metadata": {},
   "outputs": [
    {
     "data": {
      "text/html": [
       "<div>\n",
       "<style scoped>\n",
       "    .dataframe tbody tr th:only-of-type {\n",
       "        vertical-align: middle;\n",
       "    }\n",
       "\n",
       "    .dataframe tbody tr th {\n",
       "        vertical-align: top;\n",
       "    }\n",
       "\n",
       "    .dataframe thead th {\n",
       "        text-align: right;\n",
       "    }\n",
       "</style>\n",
       "<table border=\"1\" class=\"dataframe\">\n",
       "  <thead>\n",
       "    <tr style=\"text-align: right;\">\n",
       "      <th></th>\n",
       "      <th>Tweets</th>\n",
       "      <th>User</th>\n",
       "      <th>User_statuses_count</th>\n",
       "      <th>user_followers</th>\n",
       "      <th>User_location</th>\n",
       "      <th>User_verified</th>\n",
       "      <th>fav_count</th>\n",
       "      <th>rt_count</th>\n",
       "      <th>tweet_date</th>\n",
       "      <th>clean_tweet</th>\n",
       "    </tr>\n",
       "  </thead>\n",
       "  <tbody>\n",
       "    <tr>\n",
       "      <th>0</th>\n",
       "      <td>@bunnyreddyyy Kane supports RCB and he is part...</td>\n",
       "      <td>👑 No.1 Arjun Tendulkar FAN BOY👑</td>\n",
       "      <td>8972</td>\n",
       "      <td>367</td>\n",
       "      <td></td>\n",
       "      <td>False</td>\n",
       "      <td>0</td>\n",
       "      <td>0</td>\n",
       "      <td>2021-06-29 18:06:27</td>\n",
       "      <td>Kane supports RCB and he is part of England fo...</td>\n",
       "    </tr>\n",
       "    <tr>\n",
       "      <th>1</th>\n",
       "      <td>Gabba win \\nVillareal winning UEL\\nInter winni...</td>\n",
       "      <td>Adhithya Srinivasan</td>\n",
       "      <td>8994</td>\n",
       "      <td>308</td>\n",
       "      <td>India</td>\n",
       "      <td>False</td>\n",
       "      <td>0</td>\n",
       "      <td>0</td>\n",
       "      <td>2021-06-29 18:02:48</td>\n",
       "      <td>Gabba win Villareal winning UEL Inter winning ...</td>\n",
       "    </tr>\n",
       "    <tr>\n",
       "      <th>2</th>\n",
       "      <td>RT @MsdianTweets: India won 3 ICC troohies and...</td>\n",
       "      <td>💥Wowkool😎</td>\n",
       "      <td>2314</td>\n",
       "      <td>235</td>\n",
       "      <td>Kerala, India</td>\n",
       "      <td>False</td>\n",
       "      <td>0</td>\n",
       "      <td>4</td>\n",
       "      <td>2021-06-29 11:18:04</td>\n",
       "      <td>RT India won 3 ICC troohies and became no 1 in...</td>\n",
       "    </tr>\n",
       "    <tr>\n",
       "      <th>3</th>\n",
       "      <td>RT @MsdianTweets: India won 3 ICC troohies and...</td>\n",
       "      <td>Siva Swarna</td>\n",
       "      <td>102122</td>\n",
       "      <td>545</td>\n",
       "      <td>Andhra Pradesh, India</td>\n",
       "      <td>False</td>\n",
       "      <td>0</td>\n",
       "      <td>4</td>\n",
       "      <td>2021-06-29 10:52:47</td>\n",
       "      <td>RT India won 3 ICC troohies and became no 1 in...</td>\n",
       "    </tr>\n",
       "    <tr>\n",
       "      <th>4</th>\n",
       "      <td>RT @MsdianTweets: India won 3 ICC troohies and...</td>\n",
       "      <td>Rishi</td>\n",
       "      <td>5309</td>\n",
       "      <td>254</td>\n",
       "      <td>Andhra Pradesh, India</td>\n",
       "      <td>False</td>\n",
       "      <td>0</td>\n",
       "      <td>4</td>\n",
       "      <td>2021-06-29 09:29:58</td>\n",
       "      <td>RT India won 3 ICC troohies and became no 1 in...</td>\n",
       "    </tr>\n",
       "  </tbody>\n",
       "</table>\n",
       "</div>"
      ],
      "text/plain": [
       "                                              Tweets  \\\n",
       "0  @bunnyreddyyy Kane supports RCB and he is part...   \n",
       "1  Gabba win \\nVillareal winning UEL\\nInter winni...   \n",
       "2  RT @MsdianTweets: India won 3 ICC troohies and...   \n",
       "3  RT @MsdianTweets: India won 3 ICC troohies and...   \n",
       "4  RT @MsdianTweets: India won 3 ICC troohies and...   \n",
       "\n",
       "                              User User_statuses_count user_followers  \\\n",
       "0  👑 No.1 Arjun Tendulkar FAN BOY👑                8972            367   \n",
       "1              Adhithya Srinivasan                8994            308   \n",
       "2                        💥Wowkool😎                2314            235   \n",
       "3                      Siva Swarna              102122            545   \n",
       "4                            Rishi                5309            254   \n",
       "\n",
       "           User_location User_verified fav_count rt_count  \\\n",
       "0                                False         0        0   \n",
       "1                  India         False         0        0   \n",
       "2          Kerala, India         False         0        4   \n",
       "3  Andhra Pradesh, India         False         0        4   \n",
       "4  Andhra Pradesh, India         False         0        4   \n",
       "\n",
       "            tweet_date                                        clean_tweet  \n",
       "0  2021-06-29 18:06:27  Kane supports RCB and he is part of England fo...  \n",
       "1  2021-06-29 18:02:48  Gabba win Villareal winning UEL Inter winning ...  \n",
       "2  2021-06-29 11:18:04  RT India won 3 ICC troohies and became no 1 in...  \n",
       "3  2021-06-29 10:52:47  RT India won 3 ICC troohies and became no 1 in...  \n",
       "4  2021-06-29 09:29:58  RT India won 3 ICC troohies and became no 1 in...  "
      ]
     },
     "execution_count": 18,
     "metadata": {},
     "output_type": "execute_result"
    }
   ],
   "source": [
    "df.head()"
   ]
  },
  {
   "cell_type": "code",
   "execution_count": 19,
   "metadata": {},
   "outputs": [
    {
     "data": {
      "text/html": [
       "<div>\n",
       "<style scoped>\n",
       "    .dataframe tbody tr th:only-of-type {\n",
       "        vertical-align: middle;\n",
       "    }\n",
       "\n",
       "    .dataframe tbody tr th {\n",
       "        vertical-align: top;\n",
       "    }\n",
       "\n",
       "    .dataframe thead th {\n",
       "        text-align: right;\n",
       "    }\n",
       "</style>\n",
       "<table border=\"1\" class=\"dataframe\">\n",
       "  <thead>\n",
       "    <tr style=\"text-align: right;\">\n",
       "      <th></th>\n",
       "      <th>Tweets</th>\n",
       "      <th>User</th>\n",
       "      <th>User_statuses_count</th>\n",
       "      <th>user_followers</th>\n",
       "      <th>User_location</th>\n",
       "      <th>User_verified</th>\n",
       "      <th>fav_count</th>\n",
       "      <th>rt_count</th>\n",
       "      <th>tweet_date</th>\n",
       "      <th>clean_tweet</th>\n",
       "      <th>Sentiment</th>\n",
       "    </tr>\n",
       "  </thead>\n",
       "  <tbody>\n",
       "    <tr>\n",
       "      <th>0</th>\n",
       "      <td>@bunnyreddyyy Kane supports RCB and he is part...</td>\n",
       "      <td>👑 No.1 Arjun Tendulkar FAN BOY👑</td>\n",
       "      <td>8972</td>\n",
       "      <td>367</td>\n",
       "      <td></td>\n",
       "      <td>False</td>\n",
       "      <td>0</td>\n",
       "      <td>0</td>\n",
       "      <td>2021-06-29 18:06:27</td>\n",
       "      <td>Kane supports RCB and he is part of England fo...</td>\n",
       "      <td>Positive</td>\n",
       "    </tr>\n",
       "    <tr>\n",
       "      <th>1</th>\n",
       "      <td>Gabba win \\nVillareal winning UEL\\nInter winni...</td>\n",
       "      <td>Adhithya Srinivasan</td>\n",
       "      <td>8994</td>\n",
       "      <td>308</td>\n",
       "      <td>India</td>\n",
       "      <td>False</td>\n",
       "      <td>0</td>\n",
       "      <td>0</td>\n",
       "      <td>2021-06-29 18:02:48</td>\n",
       "      <td>Gabba win Villareal winning UEL Inter winning ...</td>\n",
       "      <td>Positive</td>\n",
       "    </tr>\n",
       "    <tr>\n",
       "      <th>2</th>\n",
       "      <td>RT @MsdianTweets: India won 3 ICC troohies and...</td>\n",
       "      <td>💥Wowkool😎</td>\n",
       "      <td>2314</td>\n",
       "      <td>235</td>\n",
       "      <td>Kerala, India</td>\n",
       "      <td>False</td>\n",
       "      <td>0</td>\n",
       "      <td>4</td>\n",
       "      <td>2021-06-29 11:18:04</td>\n",
       "      <td>RT India won 3 ICC troohies and became no 1 in...</td>\n",
       "      <td>Positive</td>\n",
       "    </tr>\n",
       "    <tr>\n",
       "      <th>3</th>\n",
       "      <td>RT @MsdianTweets: India won 3 ICC troohies and...</td>\n",
       "      <td>Siva Swarna</td>\n",
       "      <td>102122</td>\n",
       "      <td>545</td>\n",
       "      <td>Andhra Pradesh, India</td>\n",
       "      <td>False</td>\n",
       "      <td>0</td>\n",
       "      <td>4</td>\n",
       "      <td>2021-06-29 10:52:47</td>\n",
       "      <td>RT India won 3 ICC troohies and became no 1 in...</td>\n",
       "      <td>Positive</td>\n",
       "    </tr>\n",
       "    <tr>\n",
       "      <th>4</th>\n",
       "      <td>RT @MsdianTweets: India won 3 ICC troohies and...</td>\n",
       "      <td>Rishi</td>\n",
       "      <td>5309</td>\n",
       "      <td>254</td>\n",
       "      <td>Andhra Pradesh, India</td>\n",
       "      <td>False</td>\n",
       "      <td>0</td>\n",
       "      <td>4</td>\n",
       "      <td>2021-06-29 09:29:58</td>\n",
       "      <td>RT India won 3 ICC troohies and became no 1 in...</td>\n",
       "      <td>Positive</td>\n",
       "    </tr>\n",
       "  </tbody>\n",
       "</table>\n",
       "</div>"
      ],
      "text/plain": [
       "                                              Tweets  \\\n",
       "0  @bunnyreddyyy Kane supports RCB and he is part...   \n",
       "1  Gabba win \\nVillareal winning UEL\\nInter winni...   \n",
       "2  RT @MsdianTweets: India won 3 ICC troohies and...   \n",
       "3  RT @MsdianTweets: India won 3 ICC troohies and...   \n",
       "4  RT @MsdianTweets: India won 3 ICC troohies and...   \n",
       "\n",
       "                              User User_statuses_count user_followers  \\\n",
       "0  👑 No.1 Arjun Tendulkar FAN BOY👑                8972            367   \n",
       "1              Adhithya Srinivasan                8994            308   \n",
       "2                        💥Wowkool😎                2314            235   \n",
       "3                      Siva Swarna              102122            545   \n",
       "4                            Rishi                5309            254   \n",
       "\n",
       "           User_location User_verified fav_count rt_count  \\\n",
       "0                                False         0        0   \n",
       "1                  India         False         0        0   \n",
       "2          Kerala, India         False         0        4   \n",
       "3  Andhra Pradesh, India         False         0        4   \n",
       "4  Andhra Pradesh, India         False         0        4   \n",
       "\n",
       "            tweet_date                                        clean_tweet  \\\n",
       "0  2021-06-29 18:06:27  Kane supports RCB and he is part of England fo...   \n",
       "1  2021-06-29 18:02:48  Gabba win Villareal winning UEL Inter winning ...   \n",
       "2  2021-06-29 11:18:04  RT India won 3 ICC troohies and became no 1 in...   \n",
       "3  2021-06-29 10:52:47  RT India won 3 ICC troohies and became no 1 in...   \n",
       "4  2021-06-29 09:29:58  RT India won 3 ICC troohies and became no 1 in...   \n",
       "\n",
       "  Sentiment  \n",
       "0  Positive  \n",
       "1  Positive  \n",
       "2  Positive  \n",
       "3  Positive  \n",
       "4  Positive  "
      ]
     },
     "execution_count": 19,
     "metadata": {},
     "output_type": "execute_result"
    }
   ],
   "source": [
    "df['Sentiment'] = df['clean_tweet'].apply(lambda x : analyze_sentiment(x) )\n",
    "df.head()"
   ]
  },
  {
   "cell_type": "code",
   "execution_count": 20,
   "metadata": {},
   "outputs": [
    {
     "name": "stdout",
     "output_type": "stream",
     "text": [
      "Original tweet:\n",
      " Gabba win \n",
      "Villareal winning UEL\n",
      "Inter winning Serie A\n",
      "Djokovic beating Nadal at RG\n",
      "NZ winning an ICC trophy\n",
      "Englan… https://t.co/BztMtWOL9p\n",
      "\n",
      "Clean tweet:\n",
      " Gabba win Villareal winning UEL Inter winning Serie A Djokovic beating Nadal at RG NZ winning an ICC trophy Englan\n",
      "\n",
      "Sentiment of the tweet:\n",
      " Positive\n"
     ]
    }
   ],
   "source": [
    "n = 1\n",
    "print(\"Original tweet:\\n\",df['Tweets'][n])\n",
    "print()\n",
    "print(\"Clean tweet:\\n\",df['clean_tweet'][n])\n",
    "print()\n",
    "print(\"Sentiment of the tweet:\\n\",df['Sentiment'][n])"
   ]
  },
  {
   "cell_type": "code",
   "execution_count": 21,
   "metadata": {},
   "outputs": [
    {
     "name": "stdout",
     "output_type": "stream",
     "text": [
      "Original tweet:\n",
      " RT @DarkKnightRised: Indian CT will explode on 4 Events if it happens\n",
      "\n",
      "1. Kohli's 71st\n",
      "\n",
      "2. India Winning ICC Trophy\n",
      "\n",
      "3. RCB Winning IPL\n",
      "\n",
      "4.…\n",
      "\n",
      "Clean tweet:\n",
      " RT Indian CT will explode on 4 Events if it happens 1 Kohli s 71st 2 India Winning ICC Trophy 3 RCB Winning IPL 4\n",
      "\n",
      "Sentiment of the tweet:\n",
      " Positive\n"
     ]
    }
   ],
   "source": [
    "\n",
    "n = 20\n",
    "print(\"Original tweet:\\n\",df['Tweets'][n])\n",
    "print()\n",
    "print(\"Clean tweet:\\n\",df['clean_tweet'][n])\n",
    "print()\n",
    "print(\"Sentiment of the tweet:\\n\",df['Sentiment'][n])"
   ]
  },
  {
   "cell_type": "code",
   "execution_count": 22,
   "metadata": {},
   "outputs": [
    {
     "name": "stdout",
     "output_type": "stream",
     "text": [
      "Original tweet:\n",
      " RT @DarkKnightRised: Indian CT will explode on 4 Events if it happens\n",
      "\n",
      "1. Kohli's 71st\n",
      "\n",
      "2. India Winning ICC Trophy\n",
      "\n",
      "3. RCB Winning IPL\n",
      "\n",
      "4.…\n",
      "\n",
      "Clean tweet:\n",
      " RT Indian CT will explode on 4 Events if it happens 1 Kohli s 71st 2 India Winning ICC Trophy 3 RCB Winning IPL 4\n",
      "\n",
      "Sentiment of the tweet:\n",
      " Positive\n"
     ]
    }
   ],
   "source": [
    "n = 36\n",
    "print(\"Original tweet:\\n\",df['Tweets'][n])\n",
    "print()\n",
    "print(\"Clean tweet:\\n\",df['clean_tweet'][n])\n",
    "print()\n",
    "print(\"Sentiment of the tweet:\\n\",df['Sentiment'][n])"
   ]
  },
  {
   "cell_type": "code",
   "execution_count": 23,
   "metadata": {},
   "outputs": [
    {
     "data": {
      "text/plain": [
       "216"
      ]
     },
     "execution_count": 23,
     "metadata": {},
     "output_type": "execute_result"
    }
   ],
   "source": [
    "df[df.Sentiment == 'Positive'].shape[0]"
   ]
  },
  {
   "cell_type": "code",
   "execution_count": 24,
   "metadata": {},
   "outputs": [
    {
     "data": {
      "text/plain": [
       "4"
      ]
     },
     "execution_count": 24,
     "metadata": {},
     "output_type": "execute_result"
    }
   ],
   "source": [
    "df[df.Sentiment == 'Neutral'].shape[0]"
   ]
  },
  {
   "cell_type": "code",
   "execution_count": 25,
   "metadata": {},
   "outputs": [
    {
     "data": {
      "text/plain": [
       "3"
      ]
     },
     "execution_count": 25,
     "metadata": {},
     "output_type": "execute_result"
    }
   ],
   "source": [
    "df[df.Sentiment == 'Negative'].shape[0]"
   ]
  },
  {
   "cell_type": "code",
   "execution_count": null,
   "metadata": {},
   "outputs": [],
   "source": []
  }
 ],
 "metadata": {
  "kernelspec": {
   "display_name": "Python 3",
   "language": "python",
   "name": "python3"
  },
  "language_info": {
   "codemirror_mode": {
    "name": "ipython",
    "version": 3
   },
   "file_extension": ".py",
   "mimetype": "text/x-python",
   "name": "python",
   "nbconvert_exporter": "python",
   "pygments_lexer": "ipython3",
   "version": "3.8.5"
  }
 },
 "nbformat": 4,
 "nbformat_minor": 4
}
