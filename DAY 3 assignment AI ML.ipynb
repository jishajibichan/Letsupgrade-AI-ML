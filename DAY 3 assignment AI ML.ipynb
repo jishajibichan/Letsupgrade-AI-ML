{
 "cells": [
  {
   "cell_type": "markdown",
   "metadata": {},
   "source": [
    "# ANSWER 1"
   ]
  },
  {
   "cell_type": "code",
   "execution_count": 2,
   "metadata": {},
   "outputs": [
    {
     "name": "stdout",
     "output_type": "stream",
     "text": [
      "(-3-13j)\n"
     ]
    }
   ],
   "source": [
    "x=5-6j\n",
    "y=8+7j\n",
    "print(x-y)\n"
   ]
  },
  {
   "cell_type": "markdown",
   "metadata": {},
   "source": [
    "# ANSWER 2"
   ]
  },
  {
   "cell_type": "code",
   "execution_count": 3,
   "metadata": {},
   "outputs": [
    {
     "name": "stdout",
     "output_type": "stream",
     "text": [
      "3.0\n"
     ]
    }
   ],
   "source": [
    "a=81\n",
    "b=a**0.25\n",
    "print(b)"
   ]
  },
  {
   "cell_type": "markdown",
   "metadata": {},
   "source": [
    "# ANSWER 3"
   ]
  },
  {
   "cell_type": "code",
   "execution_count": 4,
   "metadata": {},
   "outputs": [
    {
     "name": "stdout",
     "output_type": "stream",
     "text": [
      "the value of l after swapping is :  3\n",
      "the value of m after swapping is :  7\n"
     ]
    }
   ],
   "source": [
    "l=7\n",
    "m=3\n",
    "swap=l\n",
    "l=m\n",
    "m=swap\n",
    "print(\"the value of l after swapping is : \",l)\n",
    "print(\"the value of m after swapping is : \",m)"
   ]
  },
  {
   "cell_type": "markdown",
   "metadata": {},
   "source": [
    "# ANSWER 4"
   ]
  },
  {
   "cell_type": "code",
   "execution_count": 5,
   "metadata": {},
   "outputs": [
    {
     "name": "stdout",
     "output_type": "stream",
     "text": [
      "the value of l after swapping is :  3\n",
      "the value of m after swapping is :  7\n"
     ]
    }
   ],
   "source": [
    "l=7\n",
    "m=3\n",
    "l,m=m,l\n",
    "print(\"the value of l after swapping is : \",l)\n",
    "print(\"the value of m after swapping is : \",m)"
   ]
  },
  {
   "cell_type": "markdown",
   "metadata": {},
   "source": [
    "# ANSWER 5"
   ]
  },
  {
   "cell_type": "code",
   "execution_count": 8,
   "metadata": {},
   "outputs": [
    {
     "name": "stdout",
     "output_type": "stream",
     "text": [
      "converting farenheit to kelvin  317.56268500000004 K\n",
      "converting farenheit to celcius  44.44 C\n"
     ]
    }
   ],
   "source": [
    "fT =112\n",
    "kT = (fT + 459.67)*.5555\n",
    "cT = (fT - 32)*.5555\n",
    "print(\"converting farenheit to kelvin \",kT,\"K\")\n",
    "print(\"converting farenheit to celcius \",cT,\"C\")"
   ]
  },
  {
   "cell_type": "markdown",
   "metadata": {},
   "source": [
    "# ANSWER 6"
   ]
  },
  {
   "cell_type": "code",
   "execution_count": 6,
   "metadata": {},
   "outputs": [
    {
     "name": "stdout",
     "output_type": "stream",
     "text": [
      "<class 'int'>\n",
      "<class 'float'>\n",
      "<class 'str'>\n",
      "<class 'complex'>\n",
      "<class 'tuple'>\n"
     ]
    }
   ],
   "source": [
    "a = 9\n",
    "b = 8.9\n",
    "c = \"apple\"\n",
    "d = 5+7j\n",
    "e = 7,89,45,000\n",
    "print(type(a))\n",
    "print(type(b))\n",
    "print(type(c))\n",
    "print(type(d))\n",
    "print(type(e))"
   ]
  },
  {
   "cell_type": "markdown",
   "metadata": {},
   "source": [
    "# ANSWER 7"
   ]
  },
  {
   "cell_type": "markdown",
   "metadata": {},
   "source": [
    "1. Create an account in github, in the given link:- https://github.com/\n",
    "2. Now sign up the github, follow the instructions and verify your email address if your a new user,\n",
    "   else go to new give repository name as Letsupgrade AI-ML and make it public.\n",
    "3. In descreption option give as Assignments, and click create repository.\n",
    "4. Then a folder will be created, in the given name where we have to upload our respective day assignment specifying the day.\n",
    "5. To upload github assignment link, copy the URL and paste it in the assignment link given after filling our personel details in the link and submit.\n",
    "6. We will recieve an email if it has been successfully uploaded."
   ]
  }
 ],
 "metadata": {
  "kernelspec": {
   "display_name": "Python 3",
   "language": "python",
   "name": "python3"
  },
  "language_info": {
   "codemirror_mode": {
    "name": "ipython",
    "version": 3
   },
   "file_extension": ".py",
   "mimetype": "text/x-python",
   "name": "python",
   "nbconvert_exporter": "python",
   "pygments_lexer": "ipython3",
   "version": "3.7.6"
  }
 },
 "nbformat": 4,
 "nbformat_minor": 4
}
